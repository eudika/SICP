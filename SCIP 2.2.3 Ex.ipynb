{
 "cells": [
  {
   "cell_type": "markdown",
   "metadata": {},
   "source": [
    "# 2.2.3 節\n",
    "コメントは、勉強会で扱った後に充実させる。"
   ]
  },
  {
   "cell_type": "markdown",
   "metadata": {},
   "source": [
    "### 準備"
   ]
  },
  {
   "cell_type": "markdown",
   "metadata": {},
   "source": [
    "リスト用ユーティリティ+$\\alpha$"
   ]
  },
  {
   "cell_type": "code",
   "execution_count": 3,
   "metadata": {
    "collapsed": false,
    "scrolled": true
   },
   "outputs": [],
   "source": [
    "(define nil (list))\n",
    "(define (push x xs)\n",
    "  (if (null? xs) (list x)\n",
    "      (cons (car xs) (push x (cdr xs)))))\n",
    "(define (leaf? t)\n",
    "  (not (pair? t)))\n",
    "\n",
    "(define (show-lines . xs)\n",
    "  (define (iter xs)\n",
    "    (cond ((null? xs) #t)\n",
    "          (else (display (car xs))\n",
    "                (newline)\n",
    "                (iter (cdr xs)))))\n",
    "  (iter xs))\n",
    "(define (square x) (* x x))"
   ]
  },
  {
   "cell_type": "markdown",
   "metadata": {},
   "source": [
    "以下は、この節の本文中で定義されたもの。"
   ]
  },
  {
   "cell_type": "code",
   "execution_count": 33,
   "metadata": {
    "collapsed": false
   },
   "outputs": [],
   "source": [
    "(define (filter predicate seq)\n",
    "  (cond ((null? seq) nil)\n",
    "        ((predicate (car seq))\n",
    "         (cons (car seq) (filter predicate (cdr seq))))\n",
    "        (else (filter predicate (cdr seq)))))\n",
    "(define (accumulate op init seq)\n",
    "  (if (null? seq) init\n",
    "      (op (car seq) (accumulate op init (cdr seq)))))\n",
    "(define (enumerate-interval low high)\n",
    "  (if (> low high) nil\n",
    "      (cons low (enumerate-interval (+ low 1) high))))"
   ]
  },
  {
   "cell_type": "markdown",
   "metadata": {},
   "source": [
    "これらを利用して、後で役立つ手続きを定義しておく。"
   ]
  },
  {
   "cell_type": "code",
   "execution_count": 34,
   "metadata": {
    "collapsed": false
   },
   "outputs": [
    {
     "data": {
      "text/plain": [
       "#f"
      ]
     },
     "execution_count": 34,
     "metadata": {},
     "output_type": "execute_result"
    }
   ],
   "source": [
    "(define (all predicate seq)\n",
    "  (accumulate (lambda (x y) (and x y)) #t\n",
    "              (map predicate seq)))\n",
    "(define (any predicate seq)\n",
    "  (accumulate (lambda (x y) (or x y)) #f\n",
    "              (map predicate seq)))\n",
    "\n",
    "(define (prime? n)\n",
    "  (define (prime-to-n? m)\n",
    "    (not (= (remainder n m) 0)))\n",
    "  (all prime-to-n? (enumerate-interval 2 (- n 1))))\n",
    "(prime? 134)"
   ]
  },
  {
   "cell_type": "markdown",
   "metadata": {},
   "source": [
    "## Ex. 2.33\n",
    "ここで`map`を上書きしてしまうとEx. 2.37に支障が出るので、名前を変えてある。"
   ]
  },
  {
   "cell_type": "code",
   "execution_count": 35,
   "metadata": {
    "collapsed": false
   },
   "outputs": [],
   "source": [
    "(define (map~ p sequence)\n",
    "  (accumulate (lambda (x y) (cons (p x) y)) nil sequence))\n",
    "(define (append seq1 seq2)\n",
    "  (accumulate cons seq2 seq1))\n",
    "(define (length sequence)\n",
    "  (accumulate (lambda (x y) (+ 1 y)) 0 sequence))"
   ]
  },
  {
   "cell_type": "markdown",
   "metadata": {},
   "source": [
    "\n",
    "## Ex. 2.34"
   ]
  },
  {
   "cell_type": "code",
   "execution_count": 36,
   "metadata": {
    "collapsed": false
   },
   "outputs": [
    {
     "data": {
      "text/plain": [
       "79"
      ]
     },
     "execution_count": 36,
     "metadata": {},
     "output_type": "execute_result"
    }
   ],
   "source": [
    "(define (horner-eval x coefficient-sequence)\n",
    "  (accumulate (lambda (this-coeff higher-terms) (+ this-coeff (* higher-terms x)))\n",
    "              0\n",
    "              coefficient-sequence))\n",
    "\n",
    "(horner-eval 2 (list 1 3 0 5 0 1))"
   ]
  },
  {
   "cell_type": "markdown",
   "metadata": {},
   "source": [
    "## Ex. 2.35"
   ]
  },
  {
   "cell_type": "code",
   "execution_count": 37,
   "metadata": {
    "collapsed": true
   },
   "outputs": [],
   "source": [
    "(define (count-leaves t)\n",
    "  (accumulate +\n",
    "              0\n",
    "              (map (lambda (sub-tree) (count-leaves subtree)))))"
   ]
  },
  {
   "cell_type": "code",
   "execution_count": 38,
   "metadata": {
    "collapsed": true
   },
   "outputs": [],
   "source": [
    "(define (count-leaves t) (length (fringe t)))"
   ]
  },
  {
   "cell_type": "markdown",
   "metadata": {},
   "source": [
    "## Ex. 2.36"
   ]
  },
  {
   "cell_type": "code",
   "execution_count": 39,
   "metadata": {
    "collapsed": false
   },
   "outputs": [
    {
     "data": {
      "text/plain": [
       "(22 26 30)"
      ]
     },
     "execution_count": 39,
     "metadata": {},
     "output_type": "execute_result"
    }
   ],
   "source": [
    "(define (accumulate-n op init seqs)\n",
    "  (if (null? (car seqs)) nil\n",
    "      (cons (accumulate op init (map car seqs))\n",
    "            (accumulate-n op init (map cdr seqs)))))\n",
    "\n",
    "(accumulate-n + 0 (list (list 1 2 3) (list 4 5 6) (list 7 8 9) (list 10 11 12)))"
   ]
  },
  {
   "cell_type": "markdown",
   "metadata": {},
   "source": [
    "## Ex. 2.37"
   ]
  },
  {
   "cell_type": "code",
   "execution_count": 40,
   "metadata": {
    "collapsed": false
   },
   "outputs": [
    {
     "data": {
      "text/plain": [
       "8"
      ]
     },
     "execution_count": 40,
     "metadata": {},
     "output_type": "execute_result"
    }
   ],
   "source": [
    "(define (dot-product v w)\n",
    "  (accumulate + 0 (map * v w)))\n",
    "\n",
    "(dot-product (list 1 2) (list 2 3))"
   ]
  },
  {
   "cell_type": "code",
   "execution_count": 41,
   "metadata": {
    "collapsed": true
   },
   "outputs": [],
   "source": [
    "(define (matrix-*-vector m v)\n",
    "  (map (lambda (row) (dot-product row v)) m))"
   ]
  },
  {
   "cell_type": "code",
   "execution_count": 42,
   "metadata": {
    "collapsed": true
   },
   "outputs": [],
   "source": [
    "(define (transpose mat)\n",
    "  (accumulate-n cons nil mat))"
   ]
  },
  {
   "cell_type": "code",
   "execution_count": 43,
   "metadata": {
    "collapsed": true
   },
   "outputs": [],
   "source": [
    "(define (matrix-*-matrix m n)\n",
    "  (let ((cols (transpose n)))\n",
    "    (map (lambda (col) (matrix-*-vector m col)) cols)))"
   ]
  },
  {
   "cell_type": "markdown",
   "metadata": {},
   "source": [
    "## Ex. 2.38\n",
    "動作イメージ。\n",
    "$$\\verb+(fold-right * i a)+\n",
    "= \\verb+a+_1 * ( \\dots * (\\verb+a+_{n-1} * (\\verb+a+_n * i)))$$\n",
    "$$\\verb+(fold-left * i a)+\n",
    "= (((i*\\verb+a+_1) * \\verb+a+_2) * \\dots ) * \\verb+a+_n$$"
   ]
  },
  {
   "cell_type": "code",
   "execution_count": 44,
   "metadata": {
    "collapsed": true
   },
   "outputs": [],
   "source": [
    "(define (fold-right op init seq) (accumulate op init seq))\n",
    "(define (fold-left op init seq)\n",
    "  (define (iter result rest)\n",
    "    (if (null? rest) result\n",
    "        (iter (op result (car rest)) (cdr rest))))\n",
    "  (iter init seq))"
   ]
  },
  {
   "cell_type": "markdown",
   "metadata": {},
   "source": [
    "$$\n",
    "1 / (2 / (3 / 1)) = 3/2\n",
    "$$\n",
    "$$\n",
    "((1 / 1) / 2) / 3 = 1/6\n",
    "$$\n",
    "後半は分かりやすいので省略。"
   ]
  },
  {
   "cell_type": "code",
   "execution_count": 45,
   "metadata": {
    "collapsed": false
   },
   "outputs": [
    {
     "name": "stdout",
     "output_type": "stream",
     "text": [
      "3/2\n",
      "1/6\n",
      "(1 (2 (3 ())))\n",
      "(((() 1) 2) 3)\n"
     ]
    },
    {
     "data": {
      "text/plain": [
       "#t"
      ]
     },
     "execution_count": 45,
     "metadata": {},
     "output_type": "execute_result"
    }
   ],
   "source": [
    "(show-lines\n",
    " (fold-right / 1 (list 1 2 3))\n",
    " (fold-left / 1 (list 1 2 3))\n",
    " (fold-right list nil (list 1 2 3))\n",
    " (fold-left list nil (list 1 2 3)))"
   ]
  },
  {
   "cell_type": "markdown",
   "metadata": {},
   "source": [
    "「あらゆる列に対して」と言ったときに、`init`について考えないのであれば、\n",
    "`op`が結合的であることが、2つの手続きが同じ結果を生み出すために必要十分。\n",
    "$$\\verb+(op (op x y) z)+ = \\verb+(op x (op y z))+$$\n",
    "ただし、両者では`init`が異なる向きから演算されるので、\n",
    "それによって結果が異なることはありうる。\n",
    "`init`が単位元であれば問題ないが、\n",
    "それ以外の場合でも結果が一致することはありうるので、必要十分条件を挙げることは難しい。"
   ]
  },
  {
   "cell_type": "markdown",
   "metadata": {},
   "source": [
    "## Ex. 2.39"
   ]
  },
  {
   "cell_type": "code",
   "execution_count": 46,
   "metadata": {
    "collapsed": false
   },
   "outputs": [
    {
     "data": {
      "text/plain": [
       "(4 3 2 1)"
      ]
     },
     "execution_count": 46,
     "metadata": {},
     "output_type": "execute_result"
    }
   ],
   "source": [
    "(define (reverse seq)\n",
    "  (fold-right (lambda (x y) (push x y)) nil seq))\n",
    "(reverse (list 1 2 3 4))"
   ]
  },
  {
   "cell_type": "code",
   "execution_count": 47,
   "metadata": {
    "collapsed": false
   },
   "outputs": [
    {
     "data": {
      "text/plain": [
       "(4 3 2 1)"
      ]
     },
     "execution_count": 47,
     "metadata": {},
     "output_type": "execute_result"
    }
   ],
   "source": [
    "(define (reverse seq)\n",
    "  (fold-left (lambda (x y) (cons y x)) nil seq))\n",
    "(reverse (list 1 2 3 4))"
   ]
  },
  {
   "cell_type": "code",
   "execution_count": 48,
   "metadata": {
    "collapsed": true
   },
   "outputs": [],
   "source": [
    "(define (flatmap proc seq)\n",
    "  (accumulate append nil (map proc seq)))"
   ]
  },
  {
   "cell_type": "markdown",
   "metadata": {},
   "source": [
    "## Ex. 2.40"
   ]
  },
  {
   "cell_type": "code",
   "execution_count": 49,
   "metadata": {
    "collapsed": false
   },
   "outputs": [
    {
     "data": {
      "text/plain": [
       "((2 1) (3 1) (3 2) (4 1) (4 2) (4 3))"
      ]
     },
     "execution_count": 49,
     "metadata": {},
     "output_type": "execute_result"
    }
   ],
   "source": [
    "(define (unique-pairs n)\n",
    "  (flatmap (lambda (i)\n",
    "             (map (lambda (j) (list i j)) (enumerate-interval 1 (- i 1))))\n",
    "           (enumerate-interval 1 n)))\n",
    "\n",
    "(unique-pairs 4)"
   ]
  },
  {
   "cell_type": "code",
   "execution_count": 50,
   "metadata": {
    "collapsed": false
   },
   "outputs": [
    {
     "data": {
      "text/plain": [
       "((2 1 3) (3 2 5) (4 1 5) (4 3 7) (5 2 7) (6 1 7) (6 5 11) (7 4 11) (7 6 13) (8 3 11) (8 5 13) (9 2 11) (9 4 13) (9 8 17) (10 1 11) (10 3 13) (10 7 17) (10 9 19))"
      ]
     },
     "execution_count": 50,
     "metadata": {},
     "output_type": "execute_result"
    }
   ],
   "source": [
    "(define (prime-sum? pair)\n",
    "  (prime? (+ (car pair) (cadr pair))))\n",
    "(define (make-pair-sum pair)\n",
    "  (list (car pair) (cadr pair) (+ (car pair) (cadr pair))))\n",
    "(define (prime-sum-pairs n)\n",
    "  (map make-pair-sum\n",
    "       (filter prime-sum?\n",
    "               (unique-pairs n))))\n",
    "\n",
    "(prime-sum-pairs 10)"
   ]
  },
  {
   "cell_type": "markdown",
   "metadata": {},
   "source": [
    "## Ex. 2.41\n"
   ]
  },
  {
   "cell_type": "code",
   "execution_count": 51,
   "metadata": {
    "collapsed": false
   },
   "outputs": [
    {
     "data": {
      "text/plain": [
       "((3 2 1) (4 2 1) (4 3 1) (4 3 2) (5 2 1) (5 3 1) (5 3 2) (5 4 1) (5 4 2) (5 4 3) (6 2 1) (6 3 1) (6 3 2) (6 4 1) (6 4 2) (6 4 3) (6 5 1) (6 5 2) (6 5 3) (6 5 4))"
      ]
     },
     "execution_count": 51,
     "metadata": {},
     "output_type": "execute_result"
    }
   ],
   "source": [
    "(define (unique-triples n)\n",
    "  (flatmap (lambda (pair)\n",
    "             (map (lambda (k) (push k pair))\n",
    "                  (enumerate-interval 1 (- (cadr pair) 1))))\n",
    "           (unique-pairs n)))\n",
    "\n",
    "(unique-triples 6)"
   ]
  },
  {
   "cell_type": "code",
   "execution_count": 52,
   "metadata": {
    "collapsed": false
   },
   "outputs": [
    {
     "data": {
      "text/plain": [
       "((8 7 5) (9 6 5) (9 7 4) (9 8 3) (10 6 4) (10 7 3) (10 8 2) (10 9 1))"
      ]
     },
     "execution_count": 52,
     "metadata": {},
     "output_type": "execute_result"
    }
   ],
   "source": [
    "(define (s-sum-triples s n)\n",
    "  (define (s-sum? triple)\n",
    "    (= (+ (car triple) (cadr triple) (caddr triple)) s))\n",
    "  (filter s-sum? (unique-triples n)))\n",
    "\n",
    "(s-sum-triples 20 10)"
   ]
  },
  {
   "cell_type": "markdown",
   "metadata": {},
   "source": [
    "## Ex. 2.42"
   ]
  },
  {
   "cell_type": "code",
   "execution_count": 53,
   "metadata": {
    "collapsed": false
   },
   "outputs": [
    {
     "data": {
      "text/plain": [
       "(((4 5) (2 4) (5 3) (3 2) (1 1)) ((3 5) (5 4) (2 3) (4 2) (1 1)) ((5 5) (3 4) (1 3) (4 2) (2 1)) ((4 5) (1 4) (3 3) (5 2) (2 1)) ((5 5) (2 4) (4 3) (1 2) (3 1)) ((1 5) (4 4) (2 3) (5 2) (3 1)) ((2 5) (5 4) (3 3) (1 2) (4 1)) ((1 5) (3 4) (5 3) (2 2) (4 1)) ((3 5) (1 4) (4 3) (2 2) (5 1)) ((2 5) (4 4) (1 3) (3 2) (5 1)))"
      ]
     },
     "execution_count": 53,
     "metadata": {},
     "output_type": "execute_result"
    }
   ],
   "source": [
    "(define (queens board-size)\n",
    "  (define (queen-cols k)\n",
    "    (if (= k 0) (list empty-board)\n",
    "        (filter\n",
    "         (lambda (positions) (safe? k positions))\n",
    "         (flatmap\n",
    "          (lambda (rest-of-queens)\n",
    "            (map (lambda (new-row)\n",
    "                   (adjoin-position\n",
    "                    new-row k rest-of-queens))\n",
    "                 (enumerate-interval 1 board-size)))\n",
    "          (queen-cols (- k 1))))))\n",
    "  (queen-cols board-size))\n",
    "\n",
    "(define empty-board nil)\n",
    "(define (safe? k positions)\n",
    "  (let ((new-pos (car positions)) (rest-pos (cdr positions)))\n",
    "    (define (safe-to-new-pos? pos2)\n",
    "      (let ((x1 (car new-pos)) (y1 (cadr new-pos)) (x2 (car pos2)) (y2 (cadr pos2)))\n",
    "        (not (or (= x1 x2)\n",
    "                 (= y1 y2)\n",
    "                 (= (+ x1 y1) (+ x2 y2))\n",
    "                 (= (- x1 y1) (- x2 y2))))))\n",
    "    (all safe-to-new-pos? rest-pos)))\n",
    "\n",
    "(define (adjoin-position new-row k rest-of-positions)\n",
    "  (cons (list new-row k) rest-of-positions))\n",
    "\n",
    "(queens 5)"
   ]
  },
  {
   "cell_type": "code",
   "execution_count": 54,
   "metadata": {
    "collapsed": false
   },
   "outputs": [
    {
     "data": {
      "text/plain": [
       "#f"
      ]
     },
     "execution_count": 54,
     "metadata": {},
     "output_type": "execute_result"
    }
   ],
   "source": [
    "(and #f (list #t #f))"
   ]
  },
  {
   "cell_type": "markdown",
   "metadata": {},
   "source": [
    "## Ex. 2.43"
   ]
  },
  {
   "cell_type": "code",
   "execution_count": 55,
   "metadata": {
    "collapsed": false
   },
   "outputs": [
    {
     "data": {
      "text/plain": [
       "(((1 5) (3 4) (5 3) (2 2) (4 1)) ((1 5) (4 4) (2 3) (5 2) (3 1)) ((2 5) (4 4) (1 3) (3 2) (5 1)) ((2 5) (5 4) (3 3) (1 2) (4 1)) ((3 5) (1 4) (4 3) (2 2) (5 1)) ((3 5) (5 4) (2 3) (4 2) (1 1)) ((4 5) (1 4) (3 3) (5 2) (2 1)) ((4 5) (2 4) (5 3) (3 2) (1 1)) ((5 5) (2 4) (4 3) (1 2) (3 1)) ((5 5) (3 4) (1 3) (4 2) (2 1)))"
      ]
     },
     "execution_count": 55,
     "metadata": {},
     "output_type": "execute_result"
    }
   ],
   "source": [
    "(define (queens board-size)\n",
    "  (define (queen-cols k)\n",
    "    (if (= k 0) (list empty-board)\n",
    "        (filter\n",
    "         (lambda (positions) (safe? k positions))\n",
    "         (flatmap\n",
    "          (lambda (new-row)\n",
    "            (map (lambda (rest-of-queens)\n",
    "                   (adjoin-position\n",
    "                    new-row k rest-of-queens))\n",
    "                 (queen-cols (- k 1))))\n",
    "          (enumerate-interval 1 board-size)))))\n",
    "  (queen-cols board-size))\n",
    "\n",
    "(define empty-board nil)\n",
    "(define (safe? k positions)\n",
    "  (let ((new-pos (car positions)) (rest-pos (cdr positions)))\n",
    "    (define (safe-to-new-pos? pos2)\n",
    "      (let ((x1 (car new-pos)) (y1 (cadr new-pos)) (x2 (car pos2)) (y2 (cadr pos2)))\n",
    "        (not (or (= x1 x2)\n",
    "                 (= y1 y2)\n",
    "                 (= (+ x1 y1) (+ x2 y2))\n",
    "                 (= (- x1 y1) (- x2 y2))))))\n",
    "    (all safe-to-new-pos? rest-pos)))\n",
    "\n",
    "(define (adjoin-position new-row k rest-of-positions)\n",
    "  (cons (list new-row k) rest-of-positions))\n",
    "\n",
    "(queens 5)"
   ]
  },
  {
   "cell_type": "code",
   "execution_count": null,
   "metadata": {
    "collapsed": true
   },
   "outputs": [],
   "source": []
  }
 ],
 "metadata": {
  "anaconda-cloud": {},
  "kernelspec": {
   "display_name": "Calysto Scheme 3",
   "language": "scheme",
   "name": "calysto_scheme"
  },
  "language_info": {
   "codemirror_mode": {
    "name": "scheme"
   },
   "mimetype": "text/x-scheme",
   "name": "scheme",
   "pygments_lexer": "scheme"
  }
 },
 "nbformat": 4,
 "nbformat_minor": 1
}
