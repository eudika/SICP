{
 "cells": [
  {
   "cell_type": "markdown",
   "metadata": {},
   "source": [
    "# 2.2.3 節\n",
    "コメントは、勉強会で扱った後に充実させる。"
   ]
  },
  {
   "cell_type": "markdown",
   "metadata": {},
   "source": [
    "### 準備"
   ]
  },
  {
   "cell_type": "markdown",
   "metadata": {},
   "source": [
    "リスト用ユーティリティ+$\\alpha$"
   ]
  },
  {
   "cell_type": "code",
   "execution_count": 1,
   "metadata": {
    "collapsed": false,
    "scrolled": true
   },
   "outputs": [],
   "source": [
    "(define nil (list))\n",
    "(define (push x xs)\n",
    "  (if (null? xs) (list x)\n",
    "      (cons (car xs) (push x (cdr xs)))))\n",
    "(define (leaf? t)\n",
    "  (not (pair? t)))\n",
    "\n",
    "(define (show-lines . xs)\n",
    "  (define (iter xs)\n",
    "    (cond ((null? xs) #t)\n",
    "          (else (display (car xs))\n",
    "                (newline)\n",
    "                (iter (cdr xs)))))\n",
    "  (iter xs))\n",
    "(define (square x) (* x x))"
   ]
  },
  {
   "cell_type": "markdown",
   "metadata": {},
   "source": [
    "以下は、この節の本文中で定義されたもの。\n",
    "\n",
    "`enumerate-tree`は私の教義に従って定義を変えた。"
   ]
  },
  {
   "cell_type": "code",
   "execution_count": 2,
   "metadata": {
    "collapsed": false
   },
   "outputs": [],
   "source": [
    "(define (filter predicate seq)\n",
    "  (cond ((null? seq) nil)\n",
    "        ((predicate (car seq))\n",
    "         (cons (car seq) (filter predicate (cdr seq))))\n",
    "        (else (filter predicate (cdr seq)))))\n",
    "(define (accumulate op init seq)\n",
    "  (if (null? seq) init\n",
    "      (op (car seq) (accumulate op init (cdr seq)))))\n",
    "(define (enumerate-interval low high)\n",
    "  (if (> low high) nil\n",
    "      (cons low (enumerate-interval (+ low 1) high))))\n",
    "(define (enumerate-tree tree)\n",
    "  (if (leaf? tree) (list tree)\n",
    "      (accumulate append nil\n",
    "                  (map enumerate-tree tree))))"
   ]
  },
  {
   "cell_type": "markdown",
   "metadata": {},
   "source": [
    "これらを利用して、後で役立つ手続きを定義しておく。\n",
    "\n",
    "※`accumulate`が右結合なので`and`や`or`の短絡性を活かしきれていない。\n",
    "辛うじて`y`を先に評価することで、真理値が確定してからはより左の`(predicate x)`は評価しないようにしているが、\n",
    "走査はしてしまう。"
   ]
  },
  {
   "cell_type": "code",
   "execution_count": 3,
   "metadata": {
    "collapsed": false
   },
   "outputs": [
    {
     "data": {
      "text/plain": [
       "#f"
      ]
     },
     "execution_count": 3,
     "metadata": {},
     "output_type": "execute_result"
    }
   ],
   "source": [
    "(define (all predicate seq)\n",
    "  (accumulate (lambda (x y) (and y (predicate x))) #t seq))\n",
    "(define (any predicate seq)\n",
    "  (accumulate (lambda (x y) (or y (predicate x))) #f seq))\n",
    "(define (take-while predicate seq)\n",
    "  (if (or (null? seq) (not (predicate (car seq)))) []\n",
    "           (cons (car seq) (take-while predicate (cdr seq)))))\n",
    "\n",
    "(define (prime? n)\n",
    "  (define (prime-to-n? m)\n",
    "    (not (= (remainder n m) 0)))\n",
    "  (and (> n 1)\n",
    "       (all prime-to-n?\n",
    "            (take-while (lambda (x) (<= (* x x) n))\n",
    "                        (enumerate-interval 2 (- n 1))))))\n",
    "(prime? 134)"
   ]
  },
  {
   "cell_type": "markdown",
   "metadata": {},
   "source": [
    "## Ex. 2.33\n",
    "第一引数にどのような手続き`f`を与えるかが本質。\n",
    "この`f`は、\n",
    "1. リストの新しい要素（`x`）と\n",
    "2. そこまでの集計結果（`y`）を受け取り、\n",
    "3. 新しい集計結果を返す。\n",
    "\n",
    "たとえば、`map`について考えると、\n",
    "1. `x`は`p`を適用される前の新しい要素、\n",
    "2. `y`は`map`済みの部分リストであるので、\n",
    "3. `(p x)`を`y`の先頭に追加すれば、新たな集計結果が得られる。\n",
    "\n",
    "したがって、`f` := `(lambda (x y) (cons (p x) y))`。\n",
    "以下同様。\n",
    "\n",
    "再帰的定義と同様に、`y`をすでに計算されたものとして捉えることがポイント。\n",
    "\n",
    "なお、ここで`map`を上書きしてしまうとEx. 2.37に支障が出るので名前を変えてある。"
   ]
  },
  {
   "cell_type": "code",
   "execution_count": 4,
   "metadata": {
    "collapsed": false
   },
   "outputs": [],
   "source": [
    "(define (map2 p sequence)\n",
    "  (accumulate (lambda (x y) (cons (p x) y)) nil sequence))\n",
    "(define (append seq1 seq2)\n",
    "  (accumulate cons seq2 seq1))\n",
    "(define (length sequence)\n",
    "  (accumulate (lambda (_ y) (+ 1 y)) 0 sequence))"
   ]
  },
  {
   "cell_type": "markdown",
   "metadata": {},
   "source": [
    "## Ex. 2.34\n",
    "前問と同様だが、途中結果`y`の意味を想像しにくいときは定義に戻るのも手である。Ex. 2.38も参照。"
   ]
  },
  {
   "cell_type": "code",
   "execution_count": 5,
   "metadata": {
    "collapsed": false
   },
   "outputs": [
    {
     "data": {
      "text/plain": [
       "79"
      ]
     },
     "execution_count": 5,
     "metadata": {},
     "output_type": "execute_result"
    }
   ],
   "source": [
    "(define (horner-eval x coefficient-sequence)\n",
    "  (accumulate (lambda (this-coeff higher-terms) (+ this-coeff (* higher-terms x)))\n",
    "              0\n",
    "              coefficient-sequence))\n",
    "\n",
    "(horner-eval 2 (list 1 3 0 5 0 1))"
   ]
  },
  {
   "cell_type": "markdown",
   "metadata": {},
   "source": [
    "## Ex. 2.35\n",
    "与えられたコードは次の通り。\n",
    "\n",
    "    (define (count-leaves t)\n",
    "      (accumulate (?1) (?2) (map (?3) (?4))))\n",
    " \n",
    "穴が多すぎて理詰めで埋めるのは大変であるが、\n",
    "「部分ツリーの葉数をカウントして結果を合計する」というスケッチに至れば、\n",
    "`(?1)`、`(?2)`、`(?4)`は直ちに埋まる。\n",
    "\n",
    "* `(?1)`: `+`\n",
    "* `(?2)`: `0`\n",
    "* `(?4)`: `t`\n",
    "\n",
    "`(?3)`は部分ツリーの葉数を求める手続きということで、\n",
    "詰まるところ`count-leaves`を再帰すればいいのであるが、\n",
    "ベースケース（葉の場合）もここで処理する必要があるのでもう少し煩雑になる。"
   ]
  },
  {
   "cell_type": "code",
   "execution_count": 6,
   "metadata": {
    "collapsed": false
   },
   "outputs": [
    {
     "data": {
      "text/plain": [
       "9"
      ]
     },
     "execution_count": 6,
     "metadata": {},
     "output_type": "execute_result"
    }
   ],
   "source": [
    "(define (count-leaves t)\n",
    "  (accumulate +\n",
    "              0\n",
    "              (map (lambda (sub-tree) (if (leaf? sub-tree) 1 (count-leaves sub-tree))) t)))\n",
    "\n",
    "(count-leaves (list (list 1 (list 2 3) 4) (list 5 6 (list 7 8 9))))"
   ]
  },
  {
   "cell_type": "markdown",
   "metadata": {},
   "source": [
    "### 補註\n",
    "以上が解答であるが、再帰を用いるのであれば、\n",
    "何度も言うように、ベースケースは手続きの最初で処理するのが鉄則である。\n",
    "記述がシンプルになるだけでなく、`t`が「葉のみ」の場合にも対応できる。\n",
    "（このケースもツリーに含める方が、データ構造の定義はシンプルになる。）"
   ]
  },
  {
   "cell_type": "code",
   "execution_count": 7,
   "metadata": {
    "collapsed": false
   },
   "outputs": [
    {
     "data": {
      "text/plain": [
       "1"
      ]
     },
     "execution_count": 7,
     "metadata": {},
     "output_type": "execute_result"
    }
   ],
   "source": [
    "(define (count-leaves t)\n",
    "  (if (leaf? t) 1\n",
    "      (accumulate +\n",
    "                  0\n",
    "                  (map count-leaves t))))\n",
    "(count-leaves 4)"
   ]
  },
  {
   "cell_type": "markdown",
   "metadata": {},
   "source": [
    "また、本文中で定義した`enumerate-tree`（i.e. `fringe`）を用いれば、再帰に頼らずとも定義できる。\n",
    "これは別解である。"
   ]
  },
  {
   "cell_type": "code",
   "execution_count": 8,
   "metadata": {
    "collapsed": false
   },
   "outputs": [
    {
     "data": {
      "text/plain": [
       "9"
      ]
     },
     "execution_count": 8,
     "metadata": {},
     "output_type": "execute_result"
    }
   ],
   "source": [
    "(define (count-leaves t)\n",
    "  (accumulate (lambda (_ y) (+ 1 y))\n",
    "              0\n",
    "              (enumerate-tree t)))\n",
    "\n",
    "(count-leaves (list (list 1 (list 2 3) 4) (list 5 6 (list 7 8 9))))"
   ]
  },
  {
   "cell_type": "markdown",
   "metadata": {},
   "source": [
    "ただ、それをするのであれば、Ex. 2.33で定義した`length`を用いてこう書く。"
   ]
  },
  {
   "cell_type": "code",
   "execution_count": 9,
   "metadata": {
    "collapsed": false
   },
   "outputs": [],
   "source": [
    "(define (count-leaves t) (length (enumerate-tree t)))"
   ]
  },
  {
   "cell_type": "markdown",
   "metadata": {},
   "source": [
    "## Ex. 2.36\n",
    "「リストのリスト」を縦断するので、ここまでのように手続きを直列する訳にはいかず、\n",
    "基本に戻って丁寧に再帰していく。"
   ]
  },
  {
   "cell_type": "code",
   "execution_count": 10,
   "metadata": {
    "collapsed": false
   },
   "outputs": [
    {
     "data": {
      "text/plain": [
       "(22 26 30)"
      ]
     },
     "execution_count": 10,
     "metadata": {},
     "output_type": "execute_result"
    }
   ],
   "source": [
    "(define (accumulate-n op init seqs)\n",
    "  (if (null? (car seqs)) nil\n",
    "      (cons (accumulate op init (map car seqs))\n",
    "            (accumulate-n op init (map cdr seqs)))))\n",
    "\n",
    "(accumulate-n + 0 (list (list 1 2 3) (list 4 5 6) (list 7 8 9) (list 10 11 12)))"
   ]
  },
  {
   "cell_type": "markdown",
   "metadata": {},
   "source": [
    "### 補註\n",
    "`accumulate-n`では、`seqs`の要素である各リストから先頭要素だけを切り出しながら、`accumulate`で集約している。\n",
    "前半の「行を切り出す」手続き`transpose`を部品化しておけば、直列的に定義できる。"
   ]
  },
  {
   "cell_type": "code",
   "execution_count": 11,
   "metadata": {
    "collapsed": false
   },
   "outputs": [
    {
     "data": {
      "text/plain": [
       "(22 26 30)"
      ]
     },
     "execution_count": 11,
     "metadata": {},
     "output_type": "execute_result"
    }
   ],
   "source": [
    "(define (transpose seqs)\n",
    "  (if (null? (car seqs)) nil\n",
    "      (cons (map car seqs)\n",
    "            (transpose (map cdr seqs)))))\n",
    "(define (accumulate-n2 op init seqs)\n",
    "  (map (lambda (seq) (accumulate op init seq))\n",
    "       (transpose seqs)))\n",
    "\n",
    "(accumulate-n2 + 0 (list (list 1 2 3) (list 4 5 6) (list 7 8 9) (list 10 11 12)))"
   ]
  },
  {
   "cell_type": "markdown",
   "metadata": {},
   "source": [
    "逆に、`accumulate-n`から`transpose`を定義することも可能。Ex. 2.37参照。\n",
    "`accumulate-n`の名前を変えたのは、その際に無限の相互再帰に陥るのを防ぐため。"
   ]
  },
  {
   "cell_type": "markdown",
   "metadata": {},
   "source": [
    "## Ex. 2.37"
   ]
  },
  {
   "cell_type": "code",
   "execution_count": 12,
   "metadata": {
    "collapsed": false
   },
   "outputs": [
    {
     "data": {
      "text/plain": [
       "8"
      ]
     },
     "execution_count": 12,
     "metadata": {},
     "output_type": "execute_result"
    }
   ],
   "source": [
    "(define (dot-product v w)\n",
    "  (accumulate + 0 (map * v w)))\n",
    "\n",
    "(dot-product (list 1 2) (list 2 3))"
   ]
  },
  {
   "cell_type": "markdown",
   "metadata": {},
   "source": [
    "「行列 = 行ベクトルのリスト」ということを意識すれば、リスト処理の範疇に収まる。\n",
    "\n",
    "$mv$はベクトルであり、その各要素は`m`の行ベクトルと`v`の内積である。"
   ]
  },
  {
   "cell_type": "code",
   "execution_count": 13,
   "metadata": {
    "collapsed": true
   },
   "outputs": [],
   "source": [
    "(define (matrix-*-vector m v)\n",
    "  (map (lambda (row) (dot-product row v)) m))"
   ]
  },
  {
   "cell_type": "markdown",
   "metadata": {},
   "source": [
    "`transpose`は行列の各行を縦断しながら、縦に`cons`する。"
   ]
  },
  {
   "cell_type": "code",
   "execution_count": 14,
   "metadata": {
    "collapsed": false
   },
   "outputs": [
    {
     "data": {
      "text/plain": [
       "((1 4) (2 5) (3 6))"
      ]
     },
     "execution_count": 14,
     "metadata": {},
     "output_type": "execute_result"
    }
   ],
   "source": [
    "(define (transpose mat)\n",
    "  (accumulate-n cons nil mat))\n",
    "\n",
    "(transpose\n",
    " (list (list 1 2 3)\n",
    "       (list 4 5 6)))"
   ]
  },
  {
   "cell_type": "markdown",
   "metadata": {},
   "source": [
    "$\\verb+m+ \\verb+n+$は行列であり、その各行ベクトルは、`m`の行ベクトルに`n`を**右から**作用させたものである。\n",
    "\n",
    "$$\n",
    "mn = \\begin{pmatrix} \\vdots \\\\ m_i \\\\ \\vdots \\end{pmatrix} n\n",
    "= \\begin{pmatrix} \\vdots \\\\ m_i n \\\\ \\vdots \\end{pmatrix}\n",
    "$$\n",
    "\n",
    "ベクトルに行列を右から作用させる`vector-*-matrix`は未定義だが、\n",
    "これは（行ベクトルと列ベクトルの違いを除けば）行列の転置を左から作用させることに他ならない。\n",
    "\n",
    "$$\n",
    "(m_i n)^t = n^t m_i^t\n",
    "$$"
   ]
  },
  {
   "cell_type": "code",
   "execution_count": 15,
   "metadata": {
    "collapsed": false
   },
   "outputs": [
    {
     "data": {
      "text/plain": [
       "((1 0) (3 0))"
      ]
     },
     "execution_count": 15,
     "metadata": {},
     "output_type": "execute_result"
    }
   ],
   "source": [
    "(define (matrix-*-matrix m n)\n",
    "  (let ((cols (transpose n)))\n",
    "    (map (lambda (row) (matrix-*-vector cols row)) m)))\n",
    "\n",
    "(matrix-*-matrix\n",
    " (list (list 1 2)\n",
    "       (list 3 4))\n",
    " (list (list 1 0)\n",
    "       (list 0 0)))"
   ]
  },
  {
   "cell_type": "markdown",
   "metadata": {},
   "source": [
    "### 補註\n",
    "冗長ながら、最後の定義を改めて代数的に説明する。\n",
    "$m_i$、$n_i$はそれぞれ$m$、$n$の$i$行ベクトルである。\n",
    "$mn$の転置について考えると、\n",
    "\n",
    "$$\n",
    "(m n)^t\n",
    "= n^t m^t\n",
    "= n^t \\begin{pmatrix} \\dots m_i^t \\dots \\end{pmatrix}\n",
    "= \\begin{pmatrix}\\dots n^t m_i^t \\dots \\end{pmatrix}\n",
    "$$\n",
    "\n",
    "ここから、$(mn)^t$の列ベクトル、\n",
    "すなわち、$mn$の行ベクトルが、$n^t$を$m$の行ベクトルに作用させたものであることがわかる。\n"
   ]
  },
  {
   "cell_type": "markdown",
   "metadata": {},
   "source": [
    "## Ex. 2.38\n",
    "動作イメージ。\n",
    "$$\\verb+(fold-right * i a)+\n",
    "= \\verb+a+_1 * ( \\dots * (\\verb+a+_{n-1} * (\\verb+a+_n * i)))$$\n",
    "$$\\verb+(fold-left * i a)+\n",
    "= (((i*\\verb+a+_1) * \\verb+a+_2) * \\dots ) * \\verb+a+_n$$"
   ]
  },
  {
   "cell_type": "code",
   "execution_count": 16,
   "metadata": {
    "collapsed": true
   },
   "outputs": [],
   "source": [
    "(define (fold-right op init seq) (accumulate op init seq))\n",
    "(define (fold-left op init seq)\n",
    "  (define (iter result rest)\n",
    "    (if (null? rest) result\n",
    "        (iter (op result (car rest)) (cdr rest))))\n",
    "  (iter init seq))"
   ]
  },
  {
   "cell_type": "markdown",
   "metadata": {},
   "source": [
    "$$\n",
    "1 / (2 / (3 / 1)) = 3/2\n",
    "$$\n",
    "$$\n",
    "((1 / 1) / 2) / 3 = 1/6\n",
    "$$\n",
    "後半はそれぞれの作用を可視化するためのもので、前述のイメージそのもの。"
   ]
  },
  {
   "cell_type": "code",
   "execution_count": 17,
   "metadata": {
    "collapsed": false
   },
   "outputs": [
    {
     "name": "stdout",
     "output_type": "stream",
     "text": [
      "3/2\n",
      "1/6\n",
      "(1 (2 (3 ())))\n",
      "(((() 1) 2) 3)\n"
     ]
    },
    {
     "data": {
      "text/plain": [
       "#t"
      ]
     },
     "execution_count": 17,
     "metadata": {},
     "output_type": "execute_result"
    }
   ],
   "source": [
    "(show-lines\n",
    " (fold-right / 1 (list 1 2 3))\n",
    " (fold-left / 1 (list 1 2 3))\n",
    " (fold-right list nil (list 1 2 3))\n",
    " (fold-left list nil (list 1 2 3)))"
   ]
  },
  {
   "cell_type": "markdown",
   "metadata": {},
   "source": [
    "「あらゆる列に対して」と言ったときに、`init`について考えないのであれば、\n",
    "`op`が**結合的**であることが、2つの手続きが同じ結果を生み出すために必要十分。\n",
    "$$\\verb+(op (op x y) z)+ = \\verb+(op x (op y z))+$$\n",
    "\n",
    "`init`についても考慮する場合、\n",
    "両者では`init`が異なる向きから演算されるので、\n",
    "それによって結果が異なることがありうる。\n",
    "`init`が`op`の単位元であれば十分であるが、\n",
    "それ以外の場合でも例外的に結果が一致することはありうるので、必要十分条件を挙げることは難しい。"
   ]
  },
  {
   "cell_type": "markdown",
   "metadata": {},
   "source": [
    "## Ex. 2.39\n",
    "`fold-right`（i.e. `accumulate`）についてはEx. 2.33で詳しく述べた。\n",
    "同様に、`fold-left`について考えると、第一引数`f`は、\n",
    "1. そこまでの集計結果（`x`）と\n",
    "2. リストの新しい要素（`y`）を受け取り、\n",
    "3. 新しい集計結果を返す。\n",
    "\n",
    "と、`x`と`y`の役割が逆転するので注意。"
   ]
  },
  {
   "cell_type": "code",
   "execution_count": 18,
   "metadata": {
    "collapsed": false
   },
   "outputs": [
    {
     "data": {
      "text/plain": [
       "(4 3 2 1)"
      ]
     },
     "execution_count": 18,
     "metadata": {},
     "output_type": "execute_result"
    }
   ],
   "source": [
    "(define (reverse seq)\n",
    "  (fold-right (lambda (x y) (push x y)) nil seq))\n",
    "(reverse (list 1 2 3 4))"
   ]
  },
  {
   "cell_type": "code",
   "execution_count": 19,
   "metadata": {
    "collapsed": false
   },
   "outputs": [
    {
     "data": {
      "text/plain": [
       "(4 3 2 1)"
      ]
     },
     "execution_count": 19,
     "metadata": {},
     "output_type": "execute_result"
    }
   ],
   "source": [
    "(define (reverse seq)\n",
    "  (fold-left (lambda (x y) (cons y x)) nil seq))\n",
    "(reverse (list 1 2 3 4))"
   ]
  },
  {
   "cell_type": "markdown",
   "metadata": {},
   "source": [
    "### 補註\n",
    "オーダーについて。\n",
    "$n$を`seq`の長さとして、\n",
    "`push`のステップ数は$\\Theta(n)$、`cons`は$\\Theta(1)$であるので、\n",
    "新しく定義される`reverse`は、それぞれ$\\Theta(n^2)$と$\\Theta(n)$のオーダーを持つ。\n",
    "\n",
    "`reverse`のオーダーを縮められることはEx. 2.22でも述べたが、\n",
    "注意深く観察すれば、\n",
    "fold-leftを用いて定義される`reverse`は、反復プロセスであることを含めて、\n",
    "そこで定義したものと全く同じプロセスを生成することがわかるだろう。"
   ]
  },
  {
   "cell_type": "markdown",
   "metadata": {},
   "source": [
    "---"
   ]
  },
  {
   "cell_type": "code",
   "execution_count": 20,
   "metadata": {
    "collapsed": true
   },
   "outputs": [],
   "source": [
    "(define (flatmap proc seq)\n",
    "  (accumulate append nil (map proc seq)))"
   ]
  },
  {
   "cell_type": "markdown",
   "metadata": {},
   "source": [
    "## Ex. 2.40\n",
    "本文p.167にほとんど答えが書いてある。`accumulate`で直接記述されていた部分を`flatmap`で書き換えるくらいである。"
   ]
  },
  {
   "cell_type": "code",
   "execution_count": 21,
   "metadata": {
    "collapsed": false
   },
   "outputs": [
    {
     "data": {
      "text/plain": [
       "((2 1) (3 1) (3 2) (4 1) (4 2) (4 3))"
      ]
     },
     "execution_count": 21,
     "metadata": {},
     "output_type": "execute_result"
    }
   ],
   "source": [
    "(define (unique-pairs n)\n",
    "  (flatmap (lambda (i)\n",
    "             (map (lambda (j) (list i j)) (enumerate-interval 1 (- i 1))))\n",
    "           (enumerate-interval 1 n)))\n",
    "\n",
    "(unique-pairs 4)"
   ]
  },
  {
   "cell_type": "code",
   "execution_count": 22,
   "metadata": {
    "collapsed": false
   },
   "outputs": [
    {
     "data": {
      "text/plain": [
       "((2 1 3) (3 2 5) (4 1 5) (4 3 7) (5 2 7) (6 1 7) (6 5 11) (7 4 11) (7 6 13) (8 3 11) (8 5 13) (9 2 11) (9 4 13) (9 8 17) (10 1 11) (10 3 13) (10 7 17) (10 9 19))"
      ]
     },
     "execution_count": 22,
     "metadata": {},
     "output_type": "execute_result"
    }
   ],
   "source": [
    "(define (prime-sum? pair)\n",
    "  (prime? (+ (car pair) (cadr pair))))\n",
    "(define (make-pair-sum pair)\n",
    "  (list (car pair) (cadr pair) (+ (car pair) (cadr pair))))\n",
    "(define (prime-sum-pairs n)\n",
    "  (map make-pair-sum\n",
    "       (filter prime-sum?\n",
    "               (unique-pairs n))))\n",
    "\n",
    "(prime-sum-pairs 10)"
   ]
  },
  {
   "cell_type": "markdown",
   "metadata": {},
   "source": [
    "### 補註\n",
    "だが、せっかくなので気持ちのよい順番（辞書順）に並ぶように改良しておく。"
   ]
  },
  {
   "cell_type": "code",
   "execution_count": 23,
   "metadata": {
    "collapsed": false
   },
   "outputs": [
    {
     "data": {
      "text/plain": [
       "((1 2) (1 3) (1 4) (2 3) (2 4) (3 4))"
      ]
     },
     "execution_count": 23,
     "metadata": {},
     "output_type": "execute_result"
    }
   ],
   "source": [
    "(define (unique-pairs n)\n",
    "  (flatmap (lambda (i)\n",
    "             (map (lambda (j) (list i j)) (enumerate-interval (+ i 1) n)))\n",
    "           (enumerate-interval 1 n)))\n",
    "\n",
    "(unique-pairs 4)"
   ]
  },
  {
   "cell_type": "code",
   "execution_count": 24,
   "metadata": {
    "collapsed": false
   },
   "outputs": [
    {
     "data": {
      "text/plain": [
       "((1 2 3) (1 4 5) (1 6 7) (1 10 11) (2 3 5) (2 5 7) (2 9 11) (3 4 7) (3 8 11) (3 10 13) (4 7 11) (4 9 13) (5 6 11) (5 8 13) (6 7 13) (7 10 17) (8 9 17) (9 10 19))"
      ]
     },
     "execution_count": 24,
     "metadata": {},
     "output_type": "execute_result"
    }
   ],
   "source": [
    "(prime-sum-pairs 10)"
   ]
  },
  {
   "cell_type": "markdown",
   "metadata": {},
   "source": [
    "## Ex. 2.41\n",
    "改良版`unique-pair`を想定した設計。\n",
    "`cadr`を`car`に変えれば元の版にも一応対応できる。"
   ]
  },
  {
   "cell_type": "code",
   "execution_count": 25,
   "metadata": {
    "collapsed": false
   },
   "outputs": [
    {
     "data": {
      "text/plain": [
       "((1 2 3) (1 2 4) (1 2 5) (1 2 6) (1 3 4) (1 3 5) (1 3 6) (1 4 5) (1 4 6) (1 5 6) (2 3 4) (2 3 5) (2 3 6) (2 4 5) (2 4 6) (2 5 6) (3 4 5) (3 4 6) (3 5 6) (4 5 6))"
      ]
     },
     "execution_count": 25,
     "metadata": {},
     "output_type": "execute_result"
    }
   ],
   "source": [
    "(define (unique-triples n)\n",
    "  (flatmap (lambda (pair)\n",
    "             (map (lambda (k) (push k pair))\n",
    "                  (enumerate-interval (+ (cadr pair) 1) n)))\n",
    "           (unique-pairs n)))\n",
    "\n",
    "(unique-triples 6)"
   ]
  },
  {
   "cell_type": "code",
   "execution_count": 26,
   "metadata": {
    "collapsed": false
   },
   "outputs": [
    {
     "data": {
      "text/plain": [
       "((1 9 10) (2 8 10) (3 7 10) (3 8 9) (4 6 10) (4 7 9) (5 6 9) (5 7 8))"
      ]
     },
     "execution_count": 26,
     "metadata": {},
     "output_type": "execute_result"
    }
   ],
   "source": [
    "(define (s-sum-triples s n)\n",
    "  (define (s-sum? triple)\n",
    "    (= (+ (car triple) (cadr triple) (caddr triple)) s))\n",
    "  (filter s-sum? (unique-triples n)))\n",
    "\n",
    "(s-sum-triples 20 10)"
   ]
  },
  {
   "cell_type": "markdown",
   "metadata": {},
   "source": [
    "## Ex. 2.42\n",
    "$(x_1, y_1)$と$(x_2, y_2)$が、\n",
    "* 同じ列上にある $\\Leftrightarrow$ $x_1 = x_2$\n",
    "* 同じ行上にある $\\Leftrightarrow$ $y_1 = y_2$\n",
    "* 同じ順対角線（左上-右下）上にある $\\Leftrightarrow$ $x_1 + y_2 = x_2 + y_1$\n",
    "* 同じ逆対角線（左下-右上）上にある $\\Leftrightarrow$ $x_1 + y_1 = x_2 + y_2$\n"
   ]
  },
  {
   "cell_type": "code",
   "execution_count": 27,
   "metadata": {
    "collapsed": false
   },
   "outputs": [
    {
     "data": {
      "text/plain": [
       "(((4 5) (2 4) (5 3) (3 2) (1 1)) ((3 5) (5 4) (2 3) (4 2) (1 1)) ((5 5) (3 4) (1 3) (4 2) (2 1)) ((4 5) (1 4) (3 3) (5 2) (2 1)) ((5 5) (2 4) (4 3) (1 2) (3 1)) ((1 5) (4 4) (2 3) (5 2) (3 1)) ((2 5) (5 4) (3 3) (1 2) (4 1)) ((1 5) (3 4) (5 3) (2 2) (4 1)) ((3 5) (1 4) (4 3) (2 2) (5 1)) ((2 5) (4 4) (1 3) (3 2) (5 1)))"
      ]
     },
     "execution_count": 27,
     "metadata": {},
     "output_type": "execute_result"
    }
   ],
   "source": [
    "(define (queens board-size)\n",
    "  (define (queen-cols k)\n",
    "    (if (= k 0) (list empty-board)\n",
    "        (filter safe?\n",
    "         (flatmap\n",
    "          (lambda (rest-of-queens)\n",
    "            (map (lambda (new-row)\n",
    "                   (adjoin-position\n",
    "                    new-row k rest-of-queens))\n",
    "                 (enumerate-interval 1 board-size)))\n",
    "          (queen-cols (- k 1))))))\n",
    "  (queen-cols board-size))\n",
    "\n",
    "(define empty-board nil)\n",
    "(define (safe? positions)\n",
    "  (let ((new-pos (car positions)) (rest-pos (cdr positions)))\n",
    "    (define (safe-to-new-pos? pos2)\n",
    "      (let ((x1 (car new-pos)) (y1 (cadr new-pos)) (x2 (car pos2)) (y2 (cadr pos2)))\n",
    "        (not (or (= x1 x2)\n",
    "                 (= y1 y2)\n",
    "                 (= (+ x1 y1) (+ x2 y2))\n",
    "                 (= (+ x1 y2) (+ x2 y1))))))\n",
    "    (all safe-to-new-pos? rest-pos)))\n",
    "\n",
    "(define (adjoin-position new-row k rest-of-positions)\n",
    "  (cons (list new-row k) rest-of-positions))\n",
    "\n",
    "(queens 5)"
   ]
  },
  {
   "cell_type": "markdown",
   "metadata": {},
   "source": [
    "## Ex. 2.43\n",
    "\n",
    "このコードを実行してはいけない。"
   ]
  },
  {
   "cell_type": "code",
   "execution_count": 28,
   "metadata": {
    "collapsed": false
   },
   "outputs": [],
   "source": [
    "(define (queens board-size)\n",
    "  (define (queen-cols k)\n",
    "    (if (= k 0) (list empty-board)\n",
    "        (filter safe?\n",
    "         (flatmap\n",
    "          (lambda (new-row)\n",
    "            (map (lambda (rest-of-queens)\n",
    "                   (adjoin-position\n",
    "                    new-row k rest-of-queens))\n",
    "                 (queen-cols (- k 1))))\n",
    "          (enumerate-interval 1 board-size)))))\n",
    "  (queen-cols board-size))\n",
    "\n",
    "(define empty-board nil)\n",
    "(define (safe? positions)\n",
    "  (let ((new-pos (car positions)) (rest-pos (cdr positions)))\n",
    "    (define (safe-to-new-pos? pos2)\n",
    "      (let ((x1 (car new-pos)) (y1 (cadr new-pos)) (x2 (car pos2)) (y2 (cadr pos2)))\n",
    "        (not (or (= x1 x2)\n",
    "                 (= y1 y2)\n",
    "                 (= (+ x1 y1) (+ x2 y2))\n",
    "                 (= (- x1 y1) (- x2 y2))))))\n",
    "    (all safe-to-new-pos? rest-pos)))\n",
    "\n",
    "(define (adjoin-position new-row k rest-of-positions)\n",
    "  (cons (list new-row k) rest-of-positions))\n",
    "\n",
    ";(queens 5)"
   ]
  },
  {
   "cell_type": "markdown",
   "metadata": {},
   "source": [
    "ポイントは、`(queen-cols k)`の呼び出し1回に対して、`(queen-cols (- k 1))`が呼び出される回数。\n",
    "\n",
    "元のヴァージョンでは、この記述は、手続き本体のサブフォーミュラ（部分形式）として記述されていたため、\n",
    "その評価は1度だけであった。\n",
    "\n",
    "今回のコードでは、`(queen-cols (- k 1))`はラムダ式の中に記述されている。\n",
    "すでに扱ったように、ラムダ式の中身が評価されるのは、それが引数に対して適用されたタイミングである。\n",
    "このラムダ式は`map`の引数であるので、`(enumerate-interval 1 board-size)`のそれぞれに対して適用される。\n",
    "すなわち、**`(queen-cols k)`の呼び出し1回に対して`(queen-cols (- k 1))`が`board-size`回呼び出される**。\n",
    "\n",
    "見積もりは後に回す。"
   ]
  },
  {
   "cell_type": "markdown",
   "metadata": {
    "collapsed": false
   },
   "source": []
  },
  {
   "cell_type": "code",
   "execution_count": null,
   "metadata": {
    "collapsed": true
   },
   "outputs": [],
   "source": []
  }
 ],
 "metadata": {
  "anaconda-cloud": {},
  "kernelspec": {
   "display_name": "Calysto Scheme 3",
   "language": "scheme",
   "name": "calysto_scheme"
  },
  "language_info": {
   "codemirror_mode": {
    "name": "scheme"
   },
   "mimetype": "text/x-scheme",
   "name": "scheme",
   "pygments_lexer": "scheme"
  }
 },
 "nbformat": 4,
 "nbformat_minor": 1
}
