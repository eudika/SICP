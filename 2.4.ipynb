{
 "cells": [
  {
   "cell_type": "markdown",
   "metadata": {},
   "source": [
    "# 2.4節\n",
    "データ主導プログラミング"
   ]
  },
  {
   "cell_type": "code",
   "execution_count": 1,
   "metadata": {
    "collapsed": false
   },
   "outputs": [],
   "source": [
    "(define (square x) (* x x))\n",
    "(define (cube x) (* x x x))\n",
    "(define pi 3.141592)\n",
    "(define (show-lines . s)\n",
    "  (cond ((null? s) 'shown)\n",
    "        (else (display (car s))\n",
    "              (newline)\n",
    "              (apply show-lines (cdr s)))))"
   ]
  },
  {
   "cell_type": "markdown",
   "metadata": {},
   "source": [
    "テーブル操作用（拾い物）"
   ]
  },
  {
   "cell_type": "code",
   "execution_count": 2,
   "metadata": {
    "collapsed": true
   },
   "outputs": [],
   "source": [
    "(define global-array '())\n",
    "\n",
    "(define (make-entry k v) (list k v))\n",
    "(define (key entry) (car entry))\n",
    "(define (value entry) (cadr entry))\n",
    "\n",
    "(define (put op type item)\n",
    "  (define (put-helper k array)\n",
    "    (cond ((null? array) (list(make-entry k item)))\n",
    "          ((equal? (key (car array)) k) array)\n",
    "          (else (cons (car array) (put-helper k (cdr array))))))\n",
    "  (set! global-array (put-helper (list op type) global-array)))\n",
    "\n",
    "(define (get op type)\n",
    "  (define (get-helper k array)\n",
    "    (cond ((null? array) #f)\n",
    "          ((equal? (key (car array)) k) (value (car array)))\n",
    "          (else (get-helper k (cdr array)))))\n",
    "  (get-helper (list op type) global-array))"
   ]
  },
  {
   "cell_type": "markdown",
   "metadata": {},
   "source": [
    "タグ付きデータの扱いと、タグによる手続きの使い分け"
   ]
  },
  {
   "cell_type": "code",
   "execution_count": 3,
   "metadata": {
    "collapsed": true
   },
   "outputs": [],
   "source": [
    "(define (attach-tag type-tag contents)\n",
    "  (cons type-tag contents))\n",
    "(define (type-tag datum)\n",
    "  (if (pair? datum) (car datum)\n",
    "      (error \"Bad tagged datum: TYPE-TAG\" datum)))\n",
    "(define (contents datum)\n",
    "  (if (pair? datum) (cdr datum)\n",
    "      (error \"Bad tagged datum: CONTENTS\" datum)))\n",
    "\n",
    "(define (apply-generic op . args)\n",
    "  (let* ((type-tags (map type-tag args))\n",
    "         (proc (get op type-tags)))\n",
    "    (if proc\n",
    "        (apply proc (map contents args))\n",
    "        (error \"No method for those types: APPLY-GENERIC\" (list op type-tags)))))"
   ]
  },
  {
   "cell_type": "markdown",
   "metadata": {},
   "source": [
    "## 複素数計算"
   ]
  },
  {
   "cell_type": "markdown",
   "metadata": {},
   "source": [
    "直交座標系表現に基づいた複素数パッケージ"
   ]
  },
  {
   "cell_type": "code",
   "execution_count": 4,
   "metadata": {
    "collapsed": false
   },
   "outputs": [],
   "source": [
    "(define (install-rectangular-package)\n",
    "  ;;internal procedure\n",
    "  (define (real-part z) (car z))\n",
    "  (define (imag-part z) (cdr z))\n",
    "  (define (make-from-real-imag x y) (cons x y))\n",
    "  (define (magnitude z)\n",
    "    (sqrt (+ (square (real-part z)) (square (imag-part z)))))\n",
    "  (define (angle z)\n",
    "    (atan (imag-part z) (real-part z)))\n",
    "  (define (make-from-mag-angle r a)\n",
    "    (cons (* r (cos a)) (* r (sin a))))\n",
    "  \n",
    "  ;;interface to the rest of the system\n",
    "  (define (tag x) (attach-tag 'rectangular x))\n",
    "  (put 'real-part '(rectangular) real-part)\n",
    "  (put 'imag-part '(rectangular) imag-part)\n",
    "  (put 'magnitude '(rectangular) magnitude)\n",
    "  (put 'angle '(rectangular) angle)\n",
    "  (put 'make-from-real-imag 'rectangular\n",
    "       (lambda (x y) (tag (make-from-real-imag x y))))\n",
    "  (put 'make-from-mag-ang 'rectangular\n",
    "       (lambda (r a) (tag (make-from-mag-ang r a))))\n",
    "  'done)"
   ]
  },
  {
   "cell_type": "markdown",
   "metadata": {},
   "source": [
    "極座標表示に基づいた複素数パッケージ"
   ]
  },
  {
   "cell_type": "code",
   "execution_count": 5,
   "metadata": {
    "collapsed": true
   },
   "outputs": [],
   "source": [
    "(define (install-polar-package)\n",
    "  ;;internal procedure\n",
    "  (define (magnitude z) (car z))\n",
    "  (define (angle z) (cdr z))\n",
    "  (define (make-from-mag-ang x y) (cons x y))\n",
    "  (define (real-part z) (* (magnitude z) (cos (angle z))))\n",
    "  (define (imag-part z) (* (magnitude z) (sin (angle z))))\n",
    "  (define (make-from-real-imag x y)\n",
    "    (cons (sqrt (+ (square x) (square y))) (atan y x)))\n",
    "  \n",
    "  ;;interface to the rest of the system\n",
    "  (define (tag x) (attach-tag 'polar x))\n",
    "  (put 'real-part '(polar) real-part)\n",
    "  (put 'imag-part '(polar) imag-part)\n",
    "  (put 'magnitude '(polar) magnitude)\n",
    "  (put 'angle '(polar) angle)\n",
    "  (put 'make-from-real-imag 'polar\n",
    "       (lambda (x y) (tag (make-from-real-imag x y))))\n",
    "  (put 'make-from-mag-ang 'polar\n",
    "       (lambda (r a) (tag (make-from-mag-ang r a))))\n",
    "  'done)"
   ]
  },
  {
   "cell_type": "markdown",
   "metadata": {},
   "source": [
    "パッケージのインストールとジェネリック手続きの定義"
   ]
  },
  {
   "cell_type": "code",
   "execution_count": 6,
   "metadata": {
    "collapsed": false
   },
   "outputs": [],
   "source": [
    "(install-rectangular-package)\n",
    "(install-polar-package)\n",
    "\n",
    "(define (real-part z) (apply-generic 'real-part z))\n",
    "(define (imag-part z) (apply-generic 'imag-part z))\n",
    "(define (magnitude z) (apply-generic 'magnitude z))\n",
    "(define (angle z) (apply-generic 'angle z))\n",
    "(define make-from-real-imag (get 'make-from-real-imag 'rectangular))\n",
    "(define make-from-mag-ang (get 'make-from-mag-ang 'polar))"
   ]
  },
  {
   "cell_type": "markdown",
   "metadata": {},
   "source": [
    "パッケージに依存しない複素数操作"
   ]
  },
  {
   "cell_type": "code",
   "execution_count": 7,
   "metadata": {
    "collapsed": false
   },
   "outputs": [],
   "source": [
    "(define (add-complex z1 z2)\n",
    "  (make-from-real-imag (+ (real-part z1) (real-part z2))\n",
    "                       (+ (imag-part z1) (imag-part z2))))\n",
    "(define (sub-complex z1 z2)\n",
    "  (make-from-real-imag (- (real-part z1) (real-part z2))\n",
    "                       (- (imag-part z1) (imag-part z2))))\n",
    "(define (mul-complex z1 z2)\n",
    "  (make-from-mag-ang (* (magnitude z1) (magnitude z2))\n",
    "                       (+ (angle z1) (angle z2))))\n",
    "(define (div-complex z1 z2)\n",
    "  (make-from-mag-ang (/ (magnitude z1) (magnitude z2))\n",
    "                       (- (angle z1) (angle z2))))\n",
    "(define (to-list-real-imag z) (list (real-part z) (imag-part z)))\n",
    "(define (to-list-mag-ang z) (list (magnitude z) (angle z)))"
   ]
  },
  {
   "cell_type": "markdown",
   "metadata": {},
   "source": [
    "動作テスト"
   ]
  },
  {
   "cell_type": "code",
   "execution_count": 8,
   "metadata": {
    "collapsed": false
   },
   "outputs": [
    {
     "name": "stderr",
     "output_type": "stream",
     "text": [
      "\n",
      "Traceback (most recent call last):\n",
      "  File \"In [8]\", line 1, col 1, in 'add-complex'\n",
      "  File \"In [7]\", line 2, col 42, in 'real-part'\n",
      "  File \"In [6]\", line 4, col 23, in 'apply-generic'\n",
      "  File \"In [3]\", line 11, col 3, in 'let*'\n",
      "  Source \"macro-generated-exp\"\n",
      "  File \"In [3]\", line 14, col 9, in 'apply'\n",
      "  File \"In [5]\", line 6, col 43\n",
      "RunTimeError: unbound variable 'cos'\n",
      "\n"
     ]
    }
   ],
   "source": [
    "(add-complex (make-from-real-imag 1 1)\n",
    "             (make-from-mag-ang 1 (/ pi 2)))"
   ]
  },
  {
   "cell_type": "markdown",
   "metadata": {},
   "source": [
    "## Ex 2.73"
   ]
  },
  {
   "cell_type": "code",
   "execution_count": 9,
   "metadata": {
    "collapsed": false
   },
   "outputs": [],
   "source": [
    "(define (variable? v) (symbol? v))\n",
    "(define (same-variable? v1 v2)\n",
    "  (and (variable? v1) (variable? v2) (eq? v1 v2)))\n",
    "(define (=number? n1 n2)\n",
    "  (and (number? n1) (number? n2) (= n1 n2)))\n",
    "\n",
    "(define (deriv exp var)\n",
    "  (cond ((number? exp) 0)\n",
    "        ((variable? exp) (if (same-variable? exp var) 1 0))\n",
    "        (else ((get 'deriv (operator exp))\n",
    "               (operands exp) var))))\n",
    "(define (operator exp) (car exp))\n",
    "(define (operands exp) (cdr exp))"
   ]
  },
  {
   "cell_type": "markdown",
   "metadata": {},
   "source": [
    "### a.\n",
    "複合式のもつ`(operator operands...)`という構造を、\n",
    "タグ付きデータの`(type-tag contents...)`の構造に見立てて微分手続きを振り分けている。\n",
    "\n",
    "単純式（定数、変数）の場合は上記のパターンに当てはまらないので、別に結果を定義する必要がある。"
   ]
  },
  {
   "cell_type": "markdown",
   "metadata": {},
   "source": [
    "### b."
   ]
  },
  {
   "cell_type": "code",
   "execution_count": 10,
   "metadata": {
    "collapsed": true
   },
   "outputs": [],
   "source": [
    "(define (install-basic-deriviation)\n",
    "  ;;internal procedure\n",
    "  (define (make-sum a1 a2)\n",
    "    (cond ((=number? a1 0) a2)\n",
    "          ((=number? a2 0) a1)\n",
    "          ((and (number? a1) (number? a2)) (+ a1 a2))\n",
    "          (else (list '+ a1 a2))))\n",
    "  (define (augend operands) (car operands))\n",
    "  (define (addend operands) (cadr operands))\n",
    "  (define (deriv-sum operands var)\n",
    "    (make-sum (deriv (augend operands) var) (deriv (addend operands) var)))\n",
    "  (define (make-prod m1 m2)\n",
    "    (cond ((or (=number? m1 0) (=number? m2 0)) 0)\n",
    "          ((=number? m1 1) m2)\n",
    "          ((=number? m2 1) m1)\n",
    "          ((and (number? m1) (number? m2)) (* m1 m2))\n",
    "          (else (list '* m1 m2))))\n",
    "  (define (multiplier operands) (car operands))\n",
    "  (define (multiplicand operands) (cadr operands))\n",
    "  (define (deriv-prod operands var)\n",
    "    (let ((m1 (multiplier operands))\n",
    "          (m2 (multiplicand operands)))\n",
    "      (make-sum (make-prod (deriv m1 var) m2)\n",
    "                (make-prod m1 (deriv m2 var)))))\n",
    "  \n",
    "  ;;interface to the rest of the system\n",
    "  (put 'make '+ make-sum)\n",
    "  (put 'make '* make-prod)\n",
    "  (put 'deriv '+ deriv-sum)\n",
    "  (put 'deriv '* deriv-prod)\n",
    "  'done)"
   ]
  },
  {
   "cell_type": "code",
   "execution_count": 11,
   "metadata": {
    "collapsed": false
   },
   "outputs": [
    {
     "data": {
      "text/plain": [
       "(+ (* 3 y) 1)"
      ]
     },
     "execution_count": 11,
     "metadata": {},
     "output_type": "execute_result"
    }
   ],
   "source": [
    "(install-basic-deriviation)\n",
    "(deriv '(+ (* 3 (* x y)) x) 'x)"
   ]
  },
  {
   "cell_type": "markdown",
   "metadata": {},
   "source": [
    "### c.\n",
    "冪の微分なので、積に依存する。"
   ]
  },
  {
   "cell_type": "code",
   "execution_count": 12,
   "metadata": {
    "collapsed": false
   },
   "outputs": [],
   "source": [
    "(define (install-exponent-deriviation)\n",
    "  ;;internal procedure\n",
    "  (define make-prod (get 'make '*))\n",
    "  (define (exp b e)\n",
    "    (if (= e 0) 1) (* b (exp b (- e 1))))\n",
    "  (define (make-exponent b e)\n",
    "    (cond ((= e 1) b)\n",
    "          ((or (= e 0) (=number? b 1)) 1)\n",
    "          ((number? b) (exp b e))\n",
    "          (else (list '** b e))))\n",
    "  (define (base operands) (car operands))\n",
    "  (define (exponentiation operands) (cadr operands))\n",
    "  (define (deriv-exponent operands var)\n",
    "    (let ((b (base operands))\n",
    "          (e (exponentiation operands)))\n",
    "      (make-prod e\n",
    "                 (make-prod (make-exponent b (- e 1))\n",
    "                            (deriv b var)))))\n",
    "  \n",
    "  ;;interface to the rest of the system\n",
    "  (put 'make '** make-exponent)\n",
    "  (put 'deriv '** deriv-exponent)\n",
    "  'done)"
   ]
  },
  {
   "cell_type": "code",
   "execution_count": 13,
   "metadata": {
    "collapsed": false
   },
   "outputs": [
    {
     "data": {
      "text/plain": [
       "(* 2 x)"
      ]
     },
     "execution_count": 13,
     "metadata": {},
     "output_type": "execute_result"
    }
   ],
   "source": [
    "(install-exponent-deriviation)\n",
    "(deriv '(** x 2) 'x)"
   ]
  },
  {
   "cell_type": "markdown",
   "metadata": {},
   "source": [
    "### d.\n",
    "`get`と`put`の引数の順序を変えるだけ。"
   ]
  },
  {
   "cell_type": "markdown",
   "metadata": {},
   "source": [
    "## Ex 2.74"
   ]
  },
  {
   "cell_type": "markdown",
   "metadata": {},
   "source": [
    "大阪支社での人事データの管理"
   ]
  },
  {
   "cell_type": "code",
   "execution_count": 14,
   "metadata": {
    "collapsed": false
   },
   "outputs": [],
   "source": [
    "; record: (name address salary)\n",
    "(define record1 (list 'Izumi '590-0078 190000))\n",
    "(define record2 (list 'Sakai '590-0078 230000))\n",
    "(define record3 (list 'Umeda '530-0001 320000))\n",
    "\n",
    "(define (get-name-osaka rec) (car rec))\n",
    "(define (get-address-osaka rec) (cadr rec))\n",
    "(define (get-salary-osaka rec) (caddr rec))\n",
    "\n",
    "; pasonnel file: (rec1 rec2 ...)\n",
    "(define personnel-file-osaka (list record1 record2 record3))\n",
    "\n",
    "(define (insert-record-osaka rec file) (cons rec file))\n",
    "(define (get-record-osaka name file)\n",
    "  (cond ((null? file) #f)\n",
    "        ((eq? name (get-name-osaka (car file))) (car file))\n",
    "        (else (get-record-osaka name (cdr file)))))"
   ]
  },
  {
   "cell_type": "code",
   "execution_count": 15,
   "metadata": {
    "collapsed": false
   },
   "outputs": [
    {
     "data": {
      "text/plain": [
       "(Sakai 590-0078 230000)"
      ]
     },
     "execution_count": 15,
     "metadata": {},
     "output_type": "execute_result"
    }
   ],
   "source": [
    "(get-record-osaka 'Sakai personnel-file-osaka)"
   ]
  },
  {
   "cell_type": "markdown",
   "metadata": {},
   "source": [
    "神戸支社での人事データ管理"
   ]
  },
  {
   "cell_type": "code",
   "execution_count": 16,
   "metadata": {
    "collapsed": false
   },
   "outputs": [],
   "source": [
    "; record: (('name . name) ('age age) ('salary . salary) ('post post))\n",
    "(define record4 (list (cons 'name 'Ashiya) (cons 'age 27) (cons 'salary 210000) (cons 'post 'staff)))\n",
    "(define record5 (list (cons 'name 'Miki) (cons'age 22) (cons 'salary 180000) (cons 'post 'staff)))\n",
    "(define record6 (list (cons 'name 'Sannomiya) (cons 'age 31) (cons 'salary 250000) (cons 'post 'manager)))\n",
    "\n",
    "(define (property-selector prop)\n",
    "  (define (get-prop rec)\n",
    "    (cond ((null? rec) (error \"Bad request!\" (list prop rec)))\n",
    "          ((eq? prop (caar rec)) (cdar rec))\n",
    "          (else (get-prop (cdr rec)))))\n",
    "  get-prop)\n",
    "(define get-name-kobe (property-selector 'name))\n",
    "(define get-age-kobe (property-selector 'age))\n",
    "(define get-salary-kobe (property-selector 'salary))\n",
    "(define get-post-kobe (property-selector 'post))\n",
    "\n",
    "; pasonnel file: ((key1 . rec1) (key2 . rec2) ...)\n",
    "(define personnel-file-kobe (list (cons 'Ashiya record4)\n",
    "                      (cons 'Miki record5)\n",
    "                      (cons 'Sannomiya record6)))\n",
    "\n",
    "(define (insert-record-kobe rec file)\n",
    "  (cons (cons (get-name-kobe rec) rec)\n",
    "        file))\n",
    "(define (get-record-kobe name file)\n",
    "  (cond ((null? file) #f)\n",
    "        ((eq? name (caar file)) (cdar file))\n",
    "        (else (get-record-kobe name (cdr file)))))"
   ]
  },
  {
   "cell_type": "code",
   "execution_count": 17,
   "metadata": {
    "collapsed": false
   },
   "outputs": [
    {
     "data": {
      "text/plain": [
       "31"
      ]
     },
     "execution_count": 17,
     "metadata": {},
     "output_type": "execute_result"
    }
   ],
   "source": [
    "(get-age-kobe (get-record-kobe 'Sannomiya personnel-file-kobe))"
   ]
  },
  {
   "cell_type": "markdown",
   "metadata": {},
   "source": [
    "### a.\n",
    "この場合、操作の単位は**人事ファイル**。\n",
    "ファイル全体にタグがついてさえいればよい。\n",
    "`get_record`手続きをジェネリック化し、タグに応じて二つのローカルな手続きを振り分ける。\n",
    "\n",
    "なお、`get_record`はタグ付きデータ*だけ*を取るわけではないので、\n",
    "`apply-generic`手続きを用いず、直接定義した。"
   ]
  },
  {
   "cell_type": "markdown",
   "metadata": {},
   "source": [
    "大阪"
   ]
  },
  {
   "cell_type": "code",
   "execution_count": 18,
   "metadata": {
    "collapsed": false
   },
   "outputs": [],
   "source": [
    "(define (install-osaka-a)\n",
    "  ; record: (name address salary)\n",
    "  (define record1 (list 'Izumi '590-0078 190000))\n",
    "  (define record2 (list 'Sakai '590-0078 230000))\n",
    "  (define record3 (list 'Umeda '530-0001 320000))\n",
    "  (define (get-name rec) (car rec))\n",
    "  ; pasonnel file: (rec1 rec2 ...)\n",
    "  (define personnel-file (list record1 record2 record3))\n",
    "  (define (get-record name file)\n",
    "    (cond ((null? file) #f)\n",
    "          ((eq? name (get-name (car file))) (car file))\n",
    "          (else (get-record name (cdr file)))))\n",
    "  \n",
    "  ;interface\n",
    "  (put 'file 'osaka (attach-tag 'osaka personnel-file))\n",
    "  (put 'get-record-a 'osaka get-record)\n",
    "  'done)"
   ]
  },
  {
   "cell_type": "markdown",
   "metadata": {},
   "source": [
    "神戸"
   ]
  },
  {
   "cell_type": "code",
   "execution_count": 19,
   "metadata": {
    "collapsed": true
   },
   "outputs": [],
   "source": [
    "(define (install-kobe-a)\n",
    "  ; record: (('name . name) ('age age) ('salary . salary) ('post post))\n",
    "  (define record4 (list (cons 'name 'Ashiya) (cons 'age 27) (cons 'salary 210000) (cons 'post 'staff)))\n",
    "  (define record5 (list (cons 'name 'Miki) (cons'age 22) (cons 'salary 180000) (cons 'post 'staff)))\n",
    "  (define record6 (list (cons 'name 'Sannomiya) (cons 'age 31) (cons 'salary 250000) (cons 'post 'manager)))\n",
    "  ; pasonnel file: ((key1 . rec1) (key2 . rec2) ...)\n",
    "  (define personnel-file (list (cons 'Ashiya record4)\n",
    "                        (cons 'Miki record5)\n",
    "                        (cons 'Sannomiya record6)))\n",
    "  (define (get-record name file)\n",
    "    (cond ((null? file) #f)\n",
    "          ((eq? name (caar file)) (cdar file))\n",
    "          (else (get-record name (cdr file)))))\n",
    "  \n",
    "  (put 'file 'kobe (attach-tag 'kobe personnel-file))\n",
    "  (put 'get-record-a 'kobe get-record)\n",
    "  'done)"
   ]
  },
  {
   "cell_type": "markdown",
   "metadata": {},
   "source": [
    "本社"
   ]
  },
  {
   "cell_type": "code",
   "execution_count": 20,
   "metadata": {
    "collapsed": false
   },
   "outputs": [
    {
     "name": "stdout",
     "output_type": "stream",
     "text": [
      "(osaka (Izumi 590-0078 190000) (Sakai 590-0078 230000) (Umeda 530-0001 320000))\n",
      "(kobe (Ashiya (name . Ashiya) (age . 27) (salary . 210000) (post . staff)) (Miki (name . Miki) (age . 22) (salary . 180000) (post . staff)) (Sannomiya (name . Sannomiya) (age . 31) (salary . 250000) (post . manager)))\n",
      "\n",
      "(Sakai 590-0078 230000)\n",
      "((name . Miki) (age . 22) (salary . 180000) (post . staff))\n"
     ]
    },
    {
     "data": {
      "text/plain": [
       "shown"
      ]
     },
     "execution_count": 20,
     "metadata": {},
     "output_type": "execute_result"
    }
   ],
   "source": [
    "(install-osaka-a)\n",
    "(install-kobe-a)\n",
    "(define osaka-file (get 'file 'osaka))\n",
    "(define kobe-file (get 'file 'kobe))\n",
    "(define (get-record-a name tagged-file)\n",
    "  ((get 'get-record-a (type-tag tagged-file))\n",
    "   name\n",
    "   (contents tagged-file)))\n",
    "\n",
    "(show-lines\n",
    " osaka-file\n",
    " kobe-file\n",
    " \"\"\n",
    " (get-record-a 'Sakai osaka-file)\n",
    " (get-record-a 'Miki kobe-file))"
   ]
  },
  {
   "cell_type": "markdown",
   "metadata": {
    "collapsed": false
   },
   "source": [
    "### b.\n",
    "この場合、操作の対象は「従業員レコード」。\n",
    "したがって、レコードに対して部署タグを取り付ける必要がある。\n",
    "タグ付けのタイミングは、たとえば`get-record`の返値など。\n",
    "（`get-record`が従業員レコードへの唯一のインターフェースである場合。）"
   ]
  },
  {
   "cell_type": "markdown",
   "metadata": {
    "collapsed": true
   },
   "source": [
    "大阪"
   ]
  },
  {
   "cell_type": "code",
   "execution_count": 21,
   "metadata": {
    "collapsed": true
   },
   "outputs": [],
   "source": [
    "(define (install-osaka-b)\n",
    "  (define (get-name rec) (car rec))\n",
    "  (define (get-salary rec) (caddr rec))\n",
    "  (define (get-record name file)\n",
    "    (cond ((null? file) #f)\n",
    "          ((eq? name (get-name (car file))) (attach-tag 'osaka (car file))) ;changed\n",
    "          (else (get-record name (cdr file)))))\n",
    "  \n",
    "  ;interface\n",
    "  (put 'get-record-b 'osaka get-record)\n",
    "  (put 'get-salary '(osaka) get-salary)\n",
    "  'done)"
   ]
  },
  {
   "cell_type": "markdown",
   "metadata": {},
   "source": [
    "神戸"
   ]
  },
  {
   "cell_type": "code",
   "execution_count": 22,
   "metadata": {
    "collapsed": true
   },
   "outputs": [],
   "source": [
    "(define (install-kobe-b)\n",
    "  (define (property-selector prop)\n",
    "  (define (get-prop rec)\n",
    "    (cond ((null? rec) (error \"Bad request!\" (list prop rec)))\n",
    "          ((eq? prop (caar rec)) (cdar rec))\n",
    "          (else (get-prop (cdr rec)))))\n",
    "  get-prop)\n",
    "  (define get-salary (property-selector 'salary))\n",
    "  (define (get-record name file)\n",
    "    (cond ((null? file) #f)\n",
    "          ((eq? name (caar file)) (attach-tag 'kobe (cdar file))) ;changed\n",
    "          (else (get-record name (cdr file)))))\n",
    "  \n",
    "  (put 'get-record-b 'kobe get-record)\n",
    "  (put 'get-salary '(kobe) get-salary)\n",
    "  'done)"
   ]
  },
  {
   "cell_type": "markdown",
   "metadata": {},
   "source": [
    "本社"
   ]
  },
  {
   "cell_type": "code",
   "execution_count": 28,
   "metadata": {
    "collapsed": false
   },
   "outputs": [
    {
     "name": "stdout",
     "output_type": "stream",
     "text": [
      "(osaka Sakai 590-0078 230000)\n",
      "(kobe (name . Miki) (age . 22) (salary . 180000) (post . staff))\n",
      "230000\n",
      "180000\n"
     ]
    },
    {
     "data": {
      "text/plain": [
       "shown"
      ]
     },
     "execution_count": 28,
     "metadata": {},
     "output_type": "execute_result"
    }
   ],
   "source": [
    "(install-osaka-b)\n",
    "(install-kobe-b)\n",
    "(define (get-salary rec) (apply-generic 'get-salary rec))\n",
    "(define (get-record-b name tagged-file)\n",
    "  ((get 'get-record-b (type-tag tagged-file))\n",
    "   name\n",
    "   (contents tagged-file)))\n",
    "\n",
    "(let ((rec1 (get-record-b 'Sakai osaka-file))\n",
    "      (rec2 (get-record-b 'Miki kobe-file)))\n",
    "  (show-lines\n",
    "   rec1\n",
    "   rec2\n",
    "   (get-salary rec1)\n",
    "   (get-salary rec2)))"
   ]
  },
  {
   "cell_type": "markdown",
   "metadata": {},
   "source": [
    "### c."
   ]
  },
  {
   "cell_type": "code",
   "execution_count": 30,
   "metadata": {
    "collapsed": false
   },
   "outputs": [
    {
     "name": "stdout",
     "output_type": "stream",
     "text": [
      "((osaka (Izumi 590-0078 190000) (Sakai 590-0078 230000) (Umeda 530-0001 320000)) (kobe (Ashiya (name . Ashiya) (age . 27) (salary . 210000) (post . staff)) (Miki (name . Miki) (age . 22) (salary . 180000) (post . staff)) (Sannomiya (name . Sannomiya) (age . 31) (salary . 250000) (post . manager))))\n",
      "\n",
      "(osaka Sakai 590-0078 230000)\n",
      "(kobe (name . Miki) (age . 22) (salary . 180000) (post . staff))\n"
     ]
    },
    {
     "data": {
      "text/plain": [
       "shown"
      ]
     },
     "execution_count": 30,
     "metadata": {},
     "output_type": "execute_result"
    }
   ],
   "source": [
    "(define all-files (list osaka-file kobe-file))\n",
    "(define (find-employee-record name files)\n",
    "  (if (null? files) #f\n",
    "      (let ((result (get-record-b name (car files))))\n",
    "        (if result result\n",
    "            (find-employee-record name (cdr files))))))\n",
    "\n",
    "(show-lines\n",
    " all-files\n",
    " \"\"\n",
    " (find-employee-record 'Sakai all-files)\n",
    " (find-employee-record 'Miki all-files))"
   ]
  },
  {
   "cell_type": "markdown",
   "metadata": {},
   "source": [
    "### d.\n",
    "本社および他の支社のシステムは基本的に何の変更も要らない。\n",
    "新しい部署の人事システムをパッケージ化し、本社でそれを`install`すればいい。"
   ]
  },
  {
   "cell_type": "markdown",
   "metadata": {},
   "source": [
    "### 付記"
   ]
  },
  {
   "cell_type": "markdown",
   "metadata": {},
   "source": [
    "完成したシステムの全貌"
   ]
  },
  {
   "cell_type": "markdown",
   "metadata": {},
   "source": [
    "大阪"
   ]
  },
  {
   "cell_type": "code",
   "execution_count": 44,
   "metadata": {
    "collapsed": true
   },
   "outputs": [],
   "source": [
    "(define (install-osaka)\n",
    "  ; record: (name address salary)\n",
    "  (define record1 (list 'Izumi '590-0078 190000))\n",
    "  (define record2 (list 'Sakai '590-0078 230000))\n",
    "  (define record3 (list 'Umeda '530-0001 320000))\n",
    "  (define (get-name rec) (car rec))\n",
    "  (define (get-address rec) (cadr rec))\n",
    "  (define (get-salary rec) (caddr rec))\n",
    "  ; pasonnel file: (rec1 rec2 ...)\n",
    "  (define personnel-file (list record1 record2 record3))\n",
    "  (define (empty? file) (null? file))\n",
    "  (define (insert-record rec file) (cons rec file))\n",
    "  (define (get-record name file)\n",
    "    (cond ((null? file) #f)\n",
    "          ((eq? name (get-name (car file))) (attach-tag 'osaka (car file)))\n",
    "          (else (get-record name (cdr file)))))\n",
    "    (attach-tag 'osaka (iter name file)))\n",
    "  \n",
    "  ;interface\n",
    "  (put 'file 'osaka (attach-tag 'osaka personnel-file))\n",
    "  (put 'get-name '(osaka) get-name)\n",
    "  (put 'get-address '(osaka) get-address)\n",
    "  (put 'get-salary '(osaka) get-salary)\n",
    "  (put 'empty? '(osaka) empty?)\n",
    "  (put 'insert-record 'osaka insert-record)\n",
    "  (put 'get-record 'osaka get-record)\n",
    "  'done)"
   ]
  },
  {
   "cell_type": "markdown",
   "metadata": {},
   "source": [
    "神戸"
   ]
  },
  {
   "cell_type": "code",
   "execution_count": 42,
   "metadata": {
    "collapsed": true
   },
   "outputs": [],
   "source": [
    "(define (install-kobe)\n",
    "  ; record: (('name . name) ('age age) ('salary . salary) ('post post))\n",
    "  (define record4 (list (cons 'name 'Ashiya) (cons 'age 27) (cons 'salary 210000) (cons 'post 'staff)))\n",
    "  (define record5 (list (cons 'name 'Miki) (cons'age 22) (cons 'salary 180000) (cons 'post 'staff)))\n",
    "  (define record6 (list (cons 'name 'Sannomiya) (cons 'age 31) (cons 'salary 250000) (cons 'post 'manager)))\n",
    "  (define (property-selector prop)\n",
    "  (define (get-prop rec)\n",
    "    (cond ((null? rec) (error \"Bad request!\" (list prop rec)))\n",
    "          ((eq? prop (caar rec)) (cdar rec))\n",
    "          (else (get-prop (cdr rec)))))\n",
    "  get-prop)\n",
    "  (define get-name (property-selector 'name))\n",
    "  (define get-age (property-selector 'age))\n",
    "  (define get-salary (property-selector 'salary))\n",
    "  (define get-post (property-selector 'post))\n",
    "  ; pasonnel file: ((key1 . rec1) (key2 . rec2) ...)\n",
    "  (define personnel-file (list (cons 'Ashiya record4)\n",
    "                        (cons 'Miki record5)\n",
    "                        (cons 'Sannomiya record6)))\n",
    "  (define (empty? file) (null? file))\n",
    "  (define (insert-record rec file)\n",
    "    (cons (cons (get-name rec) rec)\n",
    "          file))\n",
    "  (define (get-record name file)\n",
    "    (cond ((null? file) #f)\n",
    "          ((eq? name (caar file)) (attach-tag 'kobe (cdar file))) ;changed\n",
    "          (else (get-record name (cdr file)))))\n",
    "  ; interface\n",
    "  (put 'file 'kobe (attach-tag 'kobe personnel-file))\n",
    "  (put 'get-name '(kobe) get-name)\n",
    "  (put 'get-age '(kobe) get-age)\n",
    "  (put 'get-salary '(kobe) get-salary)\n",
    "  (put 'get-post '(kobe) get-post)\n",
    "  (put 'empty? '(osaka) empty?)\n",
    "  (put 'insert-record 'kobe insert-record)\n",
    "  (put 'get-record 'kobe get-record)\n",
    "  'done)"
   ]
  },
  {
   "cell_type": "markdown",
   "metadata": {},
   "source": [
    "本社"
   ]
  },
  {
   "cell_type": "code",
   "execution_count": 39,
   "metadata": {
    "collapsed": false
   },
   "outputs": [],
   "source": [
    "(install-osaka)\n",
    "(install-kobe)\n",
    "(define osaka-file (get 'file 'osaka))\n",
    "(define kobe-file (get 'file 'kobe))\n",
    "(define all-files (list osaka-file kobe-file))\n",
    "(define (get-name rec) (apply-generic 'name rec))\n",
    "(define (get-salary rec) (apply-generic 'get-salary rec))\n",
    "(define (insert-record rec tagged-file)\n",
    "  ((get 'insert-record (type-tag tagged-file))\n",
    "   rec\n",
    "   (contents tagged-file)))\n",
    "(define (get-record name tagged-file)\n",
    "  ((get 'get-record (type-tag tagged-file))\n",
    "   name\n",
    "   (contents tagged-file)))\n",
    "(define (find-employee-record name files)\n",
    "  (if (null? files) #f\n",
    "      (let ((result (get-record-b name (car files))))\n",
    "        (if result result\n",
    "            (find-employee-record name (cdr files))))))"
   ]
  },
  {
   "cell_type": "markdown",
   "metadata": {},
   "source": [
    "### Ex 2.75\n",
    "説明不要。\n",
    "データが手続きを持っているという意味で、\n",
    "オブジェクト指向にかなり近い。"
   ]
  },
  {
   "cell_type": "code",
   "execution_count": 46,
   "metadata": {
    "collapsed": true
   },
   "outputs": [],
   "source": [
    "(define (make-from-mag-ang r a)\n",
    "  (define (dispatch op)\n",
    "    (cond ((eq? op 'real-part) (* r (cos a)))\n",
    "          ((eq? op 'imag-part) (* r (sin a)))\n",
    "          ((eq? op 'magnitude) r)\n",
    "          ((eq? op 'angle) a)\n",
    "          (else (error \"Unknown op: MAKE-FROM-MAG-ANG\" op))))\n",
    "  dispatch)"
   ]
  },
  {
   "cell_type": "markdown",
   "metadata": {},
   "source": [
    "## Ex 2.76\n",
    "1. explicit generic procedure\n",
    "```\n",
    "(define (op1 tagged-data)\n",
    "    (cond ((eq? (type-tag tagged-data) 'type1) (op1-for-type1 (contents tagged-data)))\n",
    "    ...))\n",
    "```\n",
    "2. data directed programming\n",
    "```\n",
    "(put 'op1 'type1 op1-for-type1)...\n",
    "(define (op1 tagged-data)\n",
    "    ((get 'op1 (type-tag tagged-data)) (contents tagged-data)))...\n",
    "```\n",
    "3. message passing\n",
    "```\n",
    "(define (make-type1 ...)\n",
    "    (define (dispatch op)\n",
    "        (cond ((eq? op 'op1) result-of-op1-for-type1)\n",
    "        ...)\n",
    "    dispatch)\n",
    "```"
   ]
  },
  {
   "cell_type": "markdown",
   "metadata": {},
   "source": [
    "- タイプを追加する場合\n",
    "    1. 既存のジェネリック手続きをすべて変更する必要がある。\n",
    "    2. 新たなパッケージを定義し、既存の手続きを実装。それをインストールすればよい。（ジェネリック手続き自体は変更不要）\n",
    "    3. 新たなコンストラクタを定義し、内部で既存の手続きに対して実装を与えればよい。\n",
    "- 手続きを追加する場合\n",
    "    1. 新たなジェネリック手続きを定義する。\n",
    "    2. 既存のパッケージをすべて変更する必要がある。\n",
    "    3. 既存のコンストラクタをすべて変更する必要がある。\n",
    "\n",
    "「変更がどこまで波及するか」という観点で見るなら、\n",
    "* タイプを追加する場合は、2.や3.が有利。\n",
    "* 手続きを追加する場合は、1.が有利。"
   ]
  },
  {
   "cell_type": "code",
   "execution_count": null,
   "metadata": {
    "collapsed": true
   },
   "outputs": [],
   "source": []
  }
 ],
 "metadata": {
  "anaconda-cloud": {},
  "kernelspec": {
   "display_name": "Calysto Scheme 3",
   "language": "scheme",
   "name": "calysto_scheme"
  },
  "language_info": {
   "codemirror_mode": {
    "name": "scheme"
   },
   "mimetype": "text/x-scheme",
   "name": "scheme",
   "pygments_lexer": "scheme"
  }
 },
 "nbformat": 4,
 "nbformat_minor": 1
}
