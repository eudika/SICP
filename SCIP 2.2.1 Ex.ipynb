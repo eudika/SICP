{
 "cells": [
  {
   "cell_type": "markdown",
   "metadata": {},
   "source": [
    "# 2.2.1 節"
   ]
  },
  {
   "cell_type": "markdown",
   "metadata": {},
   "source": [
    "よく使う名前を定義しておく。"
   ]
  },
  {
   "cell_type": "markdown",
   "metadata": {},
   "source": [
    "空リスト"
   ]
  },
  {
   "cell_type": "code",
   "execution_count": 2,
   "metadata": {
    "collapsed": false
   },
   "outputs": [
    {
     "data": {
      "text/plain": [
       "()"
      ]
     },
     "execution_count": 2,
     "metadata": {},
     "output_type": "execute_result"
    }
   ],
   "source": [
    "(define nil (list))\n",
    "\n",
    "nil"
   ]
  },
  {
   "cell_type": "markdown",
   "metadata": {},
   "source": [
    "`push`はリストの末尾に要素を追加する。"
   ]
  },
  {
   "cell_type": "code",
   "execution_count": 3,
   "metadata": {
    "collapsed": false
   },
   "outputs": [
    {
     "data": {
      "text/plain": [
       "(1 2 3 4 5)"
      ]
     },
     "execution_count": 3,
     "metadata": {},
     "output_type": "execute_result"
    }
   ],
   "source": [
    "(define (push x xs)\n",
    "  (if (null? xs) (list x)\n",
    "      (cons (car xs) (push x (cdr xs)))))\n",
    "\n",
    "(push 5 (list 1 2 3 4))"
   ]
  },
  {
   "cell_type": "markdown",
   "metadata": {},
   "source": [
    "## Ex. 2.17\n",
    "`xs`がnonemptyであることは仮定してよい。\n",
    "つまり、チェック無しに`car`、`cdr`を使ってよい。"
   ]
  },
  {
   "cell_type": "code",
   "execution_count": 6,
   "metadata": {
    "collapsed": false
   },
   "outputs": [
    {
     "data": {
      "text/plain": [
       "(34)"
      ]
     },
     "execution_count": 6,
     "metadata": {},
     "output_type": "execute_result"
    }
   ],
   "source": [
    "(define (last-pair xs)\n",
    "  (if (null? (cdr xs)) xs\n",
    "      (last-pair (cdr xs))))\n",
    "\n",
    "(last-pair (list 23 72 149 34))"
   ]
  },
  {
   "cell_type": "markdown",
   "metadata": {},
   "source": [
    "## Ex. 2.18\n",
    "`push`のおかげで実装は楽。\n",
    "\n",
    "このように、`xs`がnonemptyであることを仮定できないときは、\n",
    "必ずそれを確認した後で、`car`、`cdr`を用いる。"
   ]
  },
  {
   "cell_type": "code",
   "execution_count": 7,
   "metadata": {
    "collapsed": false
   },
   "outputs": [
    {
     "data": {
      "text/plain": [
       "(25 16 9 4 1)"
      ]
     },
     "execution_count": 7,
     "metadata": {},
     "output_type": "execute_result"
    }
   ],
   "source": [
    "(define (reverse xs)\n",
    "  (if (null? xs) nil\n",
    "      (push (car xs) (reverse (cdr xs)))))\n",
    "\n",
    "(reverse (list 1 4 9 16 25))"
   ]
  },
  {
   "cell_type": "markdown",
   "metadata": {},
   "source": [
    "## Ex. 2.19\n",
    "定義というより、単に別名をつけるだけ。\n",
    "\n",
    "（このコードをJupyter上で実行するときは`amount`を小さくすること。\n",
    "Calysto Schemeでは時間がかかりすぎる。）"
   ]
  },
  {
   "cell_type": "code",
   "execution_count": 8,
   "metadata": {
    "collapsed": false
   },
   "outputs": [
    {
     "data": {
      "text/plain": [
       "4"
      ]
     },
     "execution_count": 8,
     "metadata": {},
     "output_type": "execute_result"
    }
   ],
   "source": [
    "(define us-coins (list 50 25 10 5 1))\n",
    "(define uk-coins (list 100 50 20 10 5 2 1 0.5))\n",
    "\n",
    "(define (cc amount coin-values)\n",
    "  (let ((no-more? null?)\n",
    "        (first-denomination car)\n",
    "        (except-first-denomination cdr))\n",
    "    (cond ((= amount 0) 1)\n",
    "           ((or (< amount 0) (no-more? coin-values)) 0)\n",
    "           (else (+ (cc amount (except-first-denomination coin-values))\n",
    "                    (cc (- amount (first-denomination coin-values)) coin-values))))))\n",
    "\n",
    "(cc 10 us-coins)"
   ]
  },
  {
   "cell_type": "markdown",
   "metadata": {},
   "source": [
    "`cc`の返り値は`coins`リストの並び順に依存しない。\n",
    "どの順に並べようと、手続きは合計値が`amount`となるすべてのプロセスを生成する。\n",
    "ただし、額の大きいコインを先に並べた方が、時間を節約できるだろう。"
   ]
  },
  {
   "cell_type": "markdown",
   "metadata": {},
   "source": [
    "## Ex. 2.20\n",
    "引数の列をリストとして受け取る機能はあるが、\n",
    "その逆、リストを引数の列として与える機能は無い（見当たらない）ので、\n",
    "再帰を行うために内部手続きを定義する必要がある。\n",
    "\n",
    "`parity-filter`は`x`と同じパリティの要素をフィルタする。\n",
    "実際、この定義をそのままに、`same-parity-as-x?`を一般の述語に抽象化したものが、\n",
    "高階手続き`filter`である。"
   ]
  },
  {
   "cell_type": "code",
   "execution_count": 9,
   "metadata": {
    "collapsed": false
   },
   "outputs": [
    {
     "data": {
      "text/plain": [
       "(2 4 5 6 7)"
      ]
     },
     "execution_count": 9,
     "metadata": {},
     "output_type": "execute_result"
    }
   ],
   "source": [
    "(define (same-parity x . xs)\n",
    "  (define (same-parity-as-x? y)\n",
    "    (= (remainder (- x y) 2) 0))\n",
    "  (define (parity-filter xs)\n",
    "    (cond ((null? xs) nil)\n",
    "          ((same-parity-as-x? (car xs)) (cons (car xs) (iter (cdr xs))))\n",
    "          (else (parity-filter (cdr xs)))))\n",
    "  (cons x (parity-filter xs)))\n",
    "\n",
    "(same-parity 1 2 3 4 5 6 7)\n",
    "(same-parity 2 3 4 5 6 7)"
   ]
  },
  {
   "cell_type": "markdown",
   "metadata": {},
   "source": [
    "## Ex. 2.21\n",
    "穴埋めなので特にコメントは無し。\n",
    "`square`は「準備」参照。\n",
    "\n",
    "`(define square (lambda (x) (* x x)))`"
   ]
  },
  {
   "cell_type": "code",
   "execution_count": 10,
   "metadata": {
    "collapsed": false
   },
   "outputs": [
    {
     "data": {
      "text/plain": [
       "(1 4 9 16)"
      ]
     },
     "execution_count": 10,
     "metadata": {},
     "output_type": "execute_result"
    }
   ],
   "source": [
    "(define (square-list items)\n",
    "  (if (null? items) nil\n",
    "      (cons (square (car items)) (square-list (cdr items)))))\n",
    "\n",
    "(square-list (list 1 2 3 4))"
   ]
  },
  {
   "cell_type": "code",
   "execution_count": 11,
   "metadata": {
    "collapsed": false
   },
   "outputs": [
    {
     "data": {
      "text/plain": [
       "(1 4 9 16)"
      ]
     },
     "execution_count": 11,
     "metadata": {},
     "output_type": "execute_result"
    }
   ],
   "source": [
    "(define (square-list items)\n",
    "  (map square items))\n",
    "\n",
    "(square-list (list 1 2 3 4))"
   ]
  },
  {
   "cell_type": "markdown",
   "metadata": {},
   "source": [
    "1つ目の定義から`square`を抽象化すると`map`の定義になる。\n",
    "その場合、`(map square items)`を展開すると1つ目の定義と同じ式が現れる。"
   ]
  },
  {
   "cell_type": "markdown",
   "metadata": {},
   "source": [
    "## Ex. 2.22"
   ]
  },
  {
   "cell_type": "code",
   "execution_count": 12,
   "metadata": {
    "collapsed": false
   },
   "outputs": [
    {
     "data": {
      "text/plain": [
       "(16 9 4 1)"
      ]
     },
     "execution_count": 12,
     "metadata": {},
     "output_type": "execute_result"
    }
   ],
   "source": [
    "(define (square-list items)\n",
    "  (define (iter things answer)\n",
    "    (if (null? things) answer\n",
    "        (iter (cdr things)\n",
    "              (cons (square (car things)) answer))))\n",
    "  (iter items nil))\n",
    "\n",
    "(square-list (list 1 2 3 4))"
   ]
  },
  {
   "cell_type": "markdown",
   "metadata": {},
   "source": [
    "反転の原因は次の式\n",
    "\n",
    "``(cons (square (car things)) answer)``\n",
    "\n",
    "`things`の先頭から取り出した要素を、`answer`の**先頭**に追加しているので、\n",
    "走査が終わる頃には要素の並びが反転してしまう。\n",
    "（これはiterativeな`reverse`手続きのアイデアを与える。）\n",
    "\n",
    "もちろん、この`cons`の引数の順序を逆にしたところで問題は解決しない。"
   ]
  },
  {
   "cell_type": "code",
   "execution_count": 13,
   "metadata": {
    "collapsed": false
   },
   "outputs": [
    {
     "data": {
      "text/plain": [
       "((((() . 1) . 4) . 9) . 16)"
      ]
     },
     "execution_count": 13,
     "metadata": {},
     "output_type": "execute_result"
    }
   ],
   "source": [
    "(define (square-list items)\n",
    "  (define (iter things answer)\n",
    "    (if (null? things) answer\n",
    "        (iter (cdr things)\n",
    "              (cons answer (square (car things))))))\n",
    "  (iter items nil))\n",
    "\n",
    "(square-list (list 1 2 3 4))"
   ]
  },
  {
   "cell_type": "markdown",
   "metadata": {},
   "source": [
    "リストを操作する手続きとして見なした際、`cons`は2つの引数に異なる型を想定している。\n",
    "第一引数は、リストに加えられる**要素**であり、\n",
    "第二引数は、要素を受け取る**リスト**である。\n",
    "したがって、この順序を逆にして、\n",
    "第一引数にリストを、第二引数に要素を与えることは、リスト操作としては意味をなさない。\n",
    "\n",
    "正しい解決法は、`answer`に要素を**末尾**から追加していくことである。\n",
    "再び、`push`手続きの出番である。"
   ]
  },
  {
   "cell_type": "code",
   "execution_count": 14,
   "metadata": {
    "collapsed": false
   },
   "outputs": [
    {
     "data": {
      "text/plain": [
       "(1 4 9 16)"
      ]
     },
     "execution_count": 14,
     "metadata": {},
     "output_type": "execute_result"
    }
   ],
   "source": [
    "(define (square-list items)\n",
    "  (define (iter things answer)\n",
    "    (if (null? things) answer\n",
    "        (iter (cdr things)\n",
    "              (push (square (car things)) answer))))\n",
    "  (iter items nil))\n",
    "\n",
    "(square-list (list 1 2 3 4))"
   ]
  },
  {
   "cell_type": "markdown",
   "metadata": {},
   "source": [
    "### 補註\n",
    "転んでもタダでは起きたくない人のためのiterativeな`reverse`手続き。"
   ]
  },
  {
   "cell_type": "code",
   "execution_count": 15,
   "metadata": {
    "collapsed": false
   },
   "outputs": [
    {
     "data": {
      "text/plain": [
       "(5 4 3 2 1)"
      ]
     },
     "execution_count": 15,
     "metadata": {},
     "output_type": "execute_result"
    }
   ],
   "source": [
    "(define (reverse xs)\n",
    "  (define (iter xs ans)\n",
    "    (if (null? xs) ans\n",
    "        (iter (cdr xs)\n",
    "              (cons (car xs) ans))))\n",
    "  (iter xs nil))\n",
    "\n",
    "(reverse (list 1 2 3 4 5))"
   ]
  },
  {
   "cell_type": "markdown",
   "metadata": {},
   "source": [
    "## Ex. 2.23\n",
    "複数の式を並べる必要があるので直接`if`は使えない。\n",
    "`cond`の出番である。"
   ]
  },
  {
   "cell_type": "code",
   "execution_count": 16,
   "metadata": {
    "collapsed": false
   },
   "outputs": [
    {
     "name": "stdout",
     "output_type": "stream",
     "text": [
      "\n",
      "57\n",
      "321\n",
      "88"
     ]
    },
    {
     "data": {
      "text/plain": [
       "#t"
      ]
     },
     "execution_count": 16,
     "metadata": {},
     "output_type": "execute_result"
    }
   ],
   "source": [
    "(define (for-each proc xs)\n",
    "  (cond ((null? xs) #t)\n",
    "        (else (proc (car xs))\n",
    "              (for-each proc (cdr xs)))))\n",
    "\n",
    "(for-each (lambda (x)\n",
    "            (newline)\n",
    "            (display x)) (list 57 321 88))"
   ]
  },
  {
   "cell_type": "markdown",
   "metadata": {},
   "source": [
    "### 補註\n",
    "複数の式をまとめて一つの式にする手続き`begin`を用いれば、`if`でも`for-each`が定義できる。"
   ]
  },
  {
   "cell_type": "code",
   "execution_count": 17,
   "metadata": {
    "collapsed": false
   },
   "outputs": [],
   "source": [
    "(define (for-each proc xs)\n",
    "  (cond ((null? xs) #t)\n",
    "        (else (begin (proc (car xs))\n",
    "                     (for-each proc (cdr xs))))))"
   ]
  }
 ],
 "metadata": {
  "anaconda-cloud": {},
  "kernelspec": {
   "display_name": "Calysto Scheme 3",
   "language": "scheme",
   "name": "calysto_scheme"
  },
  "language_info": {
   "codemirror_mode": {
    "name": "scheme"
   },
   "mimetype": "text/x-scheme",
   "name": "scheme",
   "pygments_lexer": "scheme"
  }
 },
 "nbformat": 4,
 "nbformat_minor": 1
}
