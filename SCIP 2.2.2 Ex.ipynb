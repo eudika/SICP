{
 "cells": [
  {
   "cell_type": "markdown",
   "metadata": {},
   "source": [
    "# 2.2.2 節"
   ]
  },
  {
   "cell_type": "markdown",
   "metadata": {},
   "source": [
    "### 準備"
   ]
  },
  {
   "cell_type": "code",
   "execution_count": 1,
   "metadata": {
    "collapsed": false
   },
   "outputs": [],
   "source": [
    "(define nil (list))\n",
    "(define (push x xs)\n",
    "  (if (null? xs) (list x)\n",
    "      (cons (car xs) (push x (cdr xs)))))"
   ]
  },
  {
   "cell_type": "markdown",
   "metadata": {},
   "source": [
    "`leaf?`は木構造において、ノードが終端（葉）であることを意味する。"
   ]
  },
  {
   "cell_type": "code",
   "execution_count": 2,
   "metadata": {
    "collapsed": true
   },
   "outputs": [],
   "source": [
    "(define (leaf? t)\n",
    "  (not (pair? t)))"
   ]
  },
  {
   "cell_type": "markdown",
   "metadata": {},
   "source": [
    "結果の一覧表示"
   ]
  },
  {
   "cell_type": "code",
   "execution_count": 3,
   "metadata": {
    "collapsed": true
   },
   "outputs": [],
   "source": [
    "(define (show-lines . xs)\n",
    "  (define (iter xs)\n",
    "    (cond ((null? xs) #t)\n",
    "          (else (display (car xs))\n",
    "                (newline)\n",
    "                (iter (cdr xs)))))\n",
    "  (iter xs))"
   ]
  },
  {
   "cell_type": "markdown",
   "metadata": {},
   "source": [
    "お馴染みの算術手続き。"
   ]
  },
  {
   "cell_type": "code",
   "execution_count": 4,
   "metadata": {
    "collapsed": false
   },
   "outputs": [],
   "source": [
    "(define (square x) (* x x))"
   ]
  },
  {
   "cell_type": "markdown",
   "metadata": {},
   "source": [
    "## Ex. 2.24\n",
    "ポインタ表記\n",
    "\n",
    "* `|`: `car`\n",
    "* `->`: `cdr`\n",
    "\n",
    "``\n",
    "(* . *) -> (* . /)\n",
    " |          |\n",
    " 1         (* . *) -> (* . /)\n",
    "            |          |\n",
    "            2         (* . *) -> (* . /)\n",
    "                       |          |\n",
    "                       3          4\n",
    "``\n",
    "\n",
    "ツリー表記\n",
    "\n",
    "``\n",
    ".  *\n",
    "  / \\\n",
    " 1   *\n",
    "    / \\\n",
    "   2   *\n",
    "      / \\\n",
    "     3   4\n",
    "``\n",
    "\n",
    "リスト表記は以下の出力"
   ]
  },
  {
   "cell_type": "code",
   "execution_count": 5,
   "metadata": {
    "collapsed": false
   },
   "outputs": [
    {
     "data": {
      "text/plain": [
       "(1 (2 (3 4)))"
      ]
     },
     "execution_count": 5,
     "metadata": {},
     "output_type": "execute_result"
    }
   ],
   "source": [
    "(list 1 (list 2 (list 3 4)))"
   ]
  },
  {
   "cell_type": "markdown",
   "metadata": {},
   "source": [
    "## Ex. 2.25\n",
    "規則正しく書かれたポインタ図式において、\n",
    "矢印を下に辿ることは`car`に、矢印を右に辿ることは`cdr`に対応する。\n",
    "\n",
    "```\n",
    "a:      d          d\n",
    "(* . *) -> (* . *) -> (* . *) -> (* . /)  # (1 2 (5 7) 9)\n",
    " |          |          |          |\n",
    " 1          2          | a        9\n",
    "                       |      d\n",
    "                      (* . *) -> (* . /)  # (5 7)\n",
    "                       |          | a\n",
    "                       5          7\n",
    "(cadaddr a) = 7\n",
    "```\n",
    "\n",
    "``\n",
    "b:\n",
    "(* . \\)  # ((7))\n",
    " | a\n",
    "(* . \\)  # (7)\n",
    " | a\n",
    " 7\n",
    "(caar b) = 7\n",
    "``\n",
    "\n",
    "``\n",
    "c:      d\n",
    "(* . *) -> (* . \\)  # (1 (2 (3 (4 (5 (6 7))))))\n",
    " |          | a    d\n",
    " 1         (* . *) -> (* . \\)  # (2 (3 (4 (5 (6 7)))))\n",
    "            |          | a    d\n",
    "            2         (* . *) -> (* . \\)  # (3 (4 (5 (6 7))))\n",
    "                       |          | a    d\n",
    "                       3         (* . *) -> (* . \\)  # (4 (5 (6 7)))\n",
    "                                  |          | a    d\n",
    "                                  4         (* . *) -> (* . \\)  # (5 (6 7))\n",
    "                                             |          | a    d\n",
    "                                             5         (* . *) -> (* . \\)  # (6 7)\n",
    "                                                        |          | a\n",
    "                                                        6          7\n",
    "(cadadadadadadr c) = 7\n",
    "``"
   ]
  },
  {
   "cell_type": "code",
   "execution_count": 6,
   "metadata": {
    "collapsed": false
   },
   "outputs": [
    {
     "data": {
      "text/plain": [
       "7"
      ]
     },
     "execution_count": 6,
     "metadata": {},
     "output_type": "execute_result"
    }
   ],
   "source": [
    "(define a (list 1 2 (list 5 7) 9))\n",
    "(define b (list (list 7)))\n",
    "(define c (list 1 (list 2 (list 3 (list 4 (list 5 (list 6 7)))))))\n",
    "\n",
    "(car (cdr (car (cdr (cdr a)))))\n",
    "(car (car b))\n",
    "(car (cdr (car (cdr (car (cdr (car (cdr (car (cdr (car (cdr c))))))))))))"
   ]
  },
  {
   "cell_type": "markdown",
   "metadata": {},
   "source": [
    "## Ex. 2.26\n",
    "それぞれ、（順序対の操作ではなく）リスト操作として解釈すると、\n",
    "* `append`: リスト`x`とリスト`y`を連結\n",
    "* `cons`: 要素`x`をリスト`y`の先頭に追加\n",
    "* `list`: 要素`x`と要素`y`から成るリストを生成"
   ]
  },
  {
   "cell_type": "code",
   "execution_count": 7,
   "metadata": {
    "collapsed": false
   },
   "outputs": [
    {
     "name": "stdout",
     "output_type": "stream",
     "text": [
      "(1 2 3 4 5 6)\n",
      "((1 2 3) 4 5 6)\n",
      "((1 2 3) (4 5 6))\n"
     ]
    },
    {
     "data": {
      "text/plain": [
       "#t"
      ]
     },
     "execution_count": 7,
     "metadata": {},
     "output_type": "execute_result"
    }
   ],
   "source": [
    "(define x (list 1 2 3))\n",
    "(define y (list 4 5 6))\n",
    "\n",
    "(show-lines\n",
    " (append x y)\n",
    " (cons x y)\n",
    " (list x y))"
   ]
  },
  {
   "cell_type": "markdown",
   "metadata": {},
   "source": [
    "## Ex. 2.27\n",
    "リストの先頭（全体）から走査を開始し、\n",
    "引数の`cdr`に対し自身を再帰的に適用していくのが、リストに対する**浅い再帰**。\n",
    "引数は常にリストであるので、終了条件は空リストであるかどうかを確かめればよい。\n",
    "\n",
    "片や、リストの要素に階層構造を想定して、\n",
    "引数の`car`と`cdr`それぞれに自身を適用するのが、ツリーに対する**深い再帰**。\n",
    "引数はリストであるとは限らないので、終了条件は空リストと葉の2パターンが必要（`cond`！）。\n",
    "他方、返り値の型は確定しているので、プログラムを書くときの手がかりとなる。"
   ]
  },
  {
   "cell_type": "code",
   "execution_count": 8,
   "metadata": {
    "collapsed": false
   },
   "outputs": [
    {
     "data": {
      "text/plain": [
       "((4 3) (2 1))"
      ]
     },
     "execution_count": 8,
     "metadata": {},
     "output_type": "execute_result"
    }
   ],
   "source": [
    "(define (deep-reverse xs)\n",
    "  (cond ((null? xs) nil)\n",
    "        ((leaf? xs) xs)\n",
    "        (else (push (deep-reverse (car xs)) (deep-reverse (cdr xs))))))\n",
    "\n",
    "(deep-reverse (list (list 1 2) (list 3 4)))"
   ]
  },
  {
   "cell_type": "markdown",
   "metadata": {},
   "source": [
    "## Ex. 2.28\n",
    "前問と同じ深い再帰。返り値は常にリストであることに注意する。"
   ]
  },
  {
   "cell_type": "code",
   "execution_count": 9,
   "metadata": {
    "collapsed": false
   },
   "outputs": [
    {
     "data": {
      "text/plain": [
       "(1 2 3 4 1 2 3 4)"
      ]
     },
     "execution_count": 9,
     "metadata": {},
     "output_type": "execute_result"
    }
   ],
   "source": [
    "(define (fringe xs)\n",
    "  (cond ((null? xs) nil)\n",
    "        ((leaf? xs) (list xs))\n",
    "        (else (append (fringe (car xs)) (fringe (cdr xs))))))\n",
    "\n",
    "(define x (list (list 1 2) (list 3 4)))\n",
    "(fringe (list x x))"
   ]
  },
  {
   "cell_type": "markdown",
   "metadata": {},
   "source": [
    "## Ex. 2.29\n",
    "吉田モービル（balanced）\n",
    "\n",
    "```\n",
    ".            |\n",
    "        2====*======3\n",
    "        |           |\n",
    "   2====*==1     1==*==1\n",
    "   |       |    10    10\n",
    "1==*==1 1==*======3\n",
    "5     5 15        5\n",
    "```"
   ]
  },
  {
   "cell_type": "markdown",
   "metadata": {},
   "source": [
    "### a.\n",
    "コンストラクタとセレクタ。\n",
    "重要なのは次の公理が成り立つことである:\n",
    "$$\\verb+(constructor + \\dots \\verb+(selector+_i \\verb+ x)+ \\dots \\verb+)+ = \\verb+x+$$\n",
    "$$\\verb+(selector+_i \\verb+ (constructor + \\dots \\verb+x+_i \\dots \\verb+))+ = \\verb+x+_i$$\n",
    "（直積と射影の関係）"
   ]
  },
  {
   "cell_type": "code",
   "execution_count": 10,
   "metadata": {
    "collapsed": true
   },
   "outputs": [],
   "source": [
    "(define (make-mobile left right) (list left right))\n",
    "(define (left-branch mobile) (car mobile))\n",
    "(define (right-branch mobile) (cadr mobile))\n",
    "\n",
    "(define (make-branch length structure) (list length structure))\n",
    "(define (branch-length branch) (car branch))\n",
    "(define (branch-structure branch) (cadr branch))"
   ]
  },
  {
   "cell_type": "code",
   "execution_count": 11,
   "metadata": {
    "collapsed": false
   },
   "outputs": [
    {
     "data": {
      "text/plain": [
       "((2 ((2 ((1 5) (1 5))) (1 ((1 15) (3 5))))) (3 ((1 10) (1 10))))"
      ]
     },
     "execution_count": 11,
     "metadata": {},
     "output_type": "execute_result"
    }
   ],
   "source": [
    "(define test-mobile\n",
    "  (make-mobile\n",
    "   (make-branch 2\n",
    "                (make-mobile\n",
    "                 (make-branch 2\n",
    "                              (make-mobile\n",
    "                               (make-branch 1 5)\n",
    "                               (make-branch 1 5)))\n",
    "                 (make-branch 1\n",
    "                              (make-mobile\n",
    "                               (make-branch 1 15)\n",
    "                               (make-branch 3 5)))))\n",
    "   (make-branch 3\n",
    "                (make-mobile\n",
    "                 (make-branch 1 10)\n",
    "                 (make-branch 1 10)))))\n",
    "test-mobile"
   ]
  },
  {
   "cell_type": "markdown",
   "metadata": {},
   "source": [
    "### b.\n",
    "モービルとブランチが相互再帰的な構造になっているので、\n",
    "手続きもそのようにするのが自然である。\n",
    "\n",
    "`branch-weight`はc.で再利用するため、グローバルに定義する。"
   ]
  },
  {
   "cell_type": "code",
   "execution_count": 12,
   "metadata": {
    "collapsed": false
   },
   "outputs": [
    {
     "data": {
      "text/plain": [
       "50"
      ]
     },
     "execution_count": 12,
     "metadata": {},
     "output_type": "execute_result"
    }
   ],
   "source": [
    "(define (total-weight mobile)\n",
    "  (+ (branch-weight (left-branch mobile))\n",
    "     (branch-weight (right-branch mobile))))\n",
    "(define (branch-weight branch)\n",
    "  (let ((struct (branch-structure branch)))\n",
    "    (if (number? struct) struct\n",
    "        (total-weight struct))))\n",
    "\n",
    "(total-weight test-mobile)"
   ]
  },
  {
   "cell_type": "markdown",
   "metadata": {},
   "source": [
    "なお、リストのような汎用的データ型と違って、\n",
    "モービルやブランチは「空」であることを想定しなくてよい。\n",
    "\n",
    "Haskell風に書くと、リストの定義は、\n",
    "\n",
    ">``data List a = Cons a (List a) | Nil``\n",
    "\n",
    "と、定義の一部としてnilが含まれているのに対して、\n",
    "モービルはそうではない。\n",
    "\n",
    ">``data Mobile = Mobile Branch Branch  \n",
    "data Branch = EndBranch Float Float | Branch Float Mobile``\n",
    "\n",
    "※このようなデータ型に対する明示的な記述は、Lispの場合はコードの見えるところになくて、\n",
    "ユーザーはマニュアル等を参照しなくてはならない。\n",
    "（さもなくばコンストラクタの定義にあたるか。）"
   ]
  },
  {
   "cell_type": "markdown",
   "metadata": {},
   "source": [
    "### c.\n",
    "モービルが**balanced**（平衡）であるとは、（ルートを含んだ）**すべての部分モービルについて**、左右のブランチのトルク（の大きさ）が等しいことである。この条件を見落とした人が多かったようだ。\n",
    "\n",
    "再帰的に表現すると、これは次の3条件に落とし込める。\n",
    "1. 左のブランチと右のブランチのトルクが等しい。\n",
    "2. 左のブランチにモービルがあるならば、それがbalancedである。\n",
    "3. 右のブランチにモービルがあるならば、それがbalancedである。\n",
    "\n",
    "したがって、これらを`and`で連結すればよい。\n",
    "\n",
    "2.と3.は「モービルでないか、balancedである」と同値である（実質条件法）。\n",
    "同じことを2度確かめることになるので、これは述語として抽象化する。"
   ]
  },
  {
   "cell_type": "code",
   "execution_count": 13,
   "metadata": {
    "collapsed": false
   },
   "outputs": [
    {
     "data": {
      "text/plain": [
       "#t"
      ]
     },
     "execution_count": 13,
     "metadata": {},
     "output_type": "execute_result"
    }
   ],
   "source": [
    "(define (balanced? mobile)\n",
    "  (define (torque branch)\n",
    "    (* (branch-length branch) (branch-weight branch)))\n",
    "  (define (branch-balanced? branch)\n",
    "    (let ((struct (branch-structure branch)))\n",
    "      (or (number? struct) (balanced? struct))))\n",
    "  (let ((left (left-branch mobile)) (right (right-branch mobile)))\n",
    "    (and (= (torque left) (torque right))\n",
    "         (branch-balanced? left)\n",
    "         (branch-balanced? right))))\n",
    "\n",
    "(balanced? test-mobile)"
   ]
  },
  {
   "cell_type": "markdown",
   "metadata": {},
   "source": [
    "### d.\n",
    "ここまで、データ構造の具体的な実装は、コンストラクタとセレクタ以外の手続きにとっては、抽象の壁の向こうにあった。\n",
    "そのため、コンストラクタとセレクタの定義だけを、整合的に（件の公理を満たすように）変更すればよく、他の手続きに手を加える必要は一切ない。"
   ]
  },
  {
   "cell_type": "code",
   "execution_count": 14,
   "metadata": {
    "collapsed": true
   },
   "outputs": [],
   "source": [
    "(define (make-mobile left right) (cons left right))\n",
    "(define (left-branch mobile) (car mobile))\n",
    "(define (right-branch mobile) (cdr mobile))\n",
    "\n",
    "(define (make-branch length structure) (cons length structure))\n",
    "(define (branch-length branch) (car branch))\n",
    "(define (branch-structure branch) (cdr branch))"
   ]
  },
  {
   "cell_type": "code",
   "execution_count": 15,
   "metadata": {
    "collapsed": false
   },
   "outputs": [
    {
     "data": {
      "text/plain": [
       "#t"
      ]
     },
     "execution_count": 15,
     "metadata": {},
     "output_type": "execute_result"
    }
   ],
   "source": [
    "(define test-mobile\n",
    "  (make-mobile\n",
    "   (make-branch 2\n",
    "                (make-mobile\n",
    "                 (make-branch 2\n",
    "                              (make-mobile\n",
    "                               (make-branch 1 5)\n",
    "                               (make-branch 1 5)))\n",
    "                 (make-branch 1\n",
    "                              (make-mobile\n",
    "                               (make-branch 1 15)\n",
    "                               (make-branch 3 5)))))\n",
    "   (make-branch 3\n",
    "                (make-mobile\n",
    "                 (make-branch 1 10)\n",
    "                 (make-branch 1 10)))))\n",
    "\n",
    "(balanced? test-mobile)"
   ]
  },
  {
   "cell_type": "markdown",
   "metadata": {},
   "source": [
    "## Ex. 2.30\n",
    "Ex. 2.27ですでに行った深い再帰。\n",
    "`map`を使わない方法と使う方法、2通りで実装する。"
   ]
  },
  {
   "cell_type": "code",
   "execution_count": 16,
   "metadata": {
    "collapsed": false
   },
   "outputs": [
    {
     "data": {
      "text/plain": [
       "(1 (4 (9 16) 25) (36 49))"
      ]
     },
     "execution_count": 16,
     "metadata": {},
     "output_type": "execute_result"
    }
   ],
   "source": [
    "(define (square-tree tree)\n",
    "  (cond ((null? tree) nil)\n",
    "        ((leaf? tree) (square tree))\n",
    "        (else (cons (square-tree (car tree)) (square-tree (cdr tree))))))\n",
    "\n",
    "(square-tree (list 1\n",
    "                   (list 2 (list 3 4) 5)\n",
    "                   (list 6 7)))"
   ]
  },
  {
   "cell_type": "code",
   "execution_count": 17,
   "metadata": {
    "collapsed": false
   },
   "outputs": [
    {
     "data": {
      "text/plain": [
       "(1 (4 (9 16) 25) (36 49))"
      ]
     },
     "execution_count": 17,
     "metadata": {},
     "output_type": "execute_result"
    }
   ],
   "source": [
    "(define (square-tree tree)\n",
    "  (if (leaf? tree) (square tree)\n",
    "      (map square-tree tree)))\n",
    "\n",
    "(square-tree (list 1\n",
    "                   (list 2 (list 3 4) 5)\n",
    "                   (list 6 7)))"
   ]
  },
  {
   "cell_type": "markdown",
   "metadata": {},
   "source": [
    "### 補註\n",
    "`square-tree`の2つの異なる実装は、単なる書き方の違いを超えて、\n",
    "ツリー構造に対する解釈の違いを反映したものとして捉えることができる。\n",
    "\n",
    "SICPにおけるツリーの実装は、内部構造としては一意であるが、実は2通りの解釈を許している。\n",
    "すなわち、片や再起的なペアとして（ポインタ図に対応する）、\n",
    "片やサブツリーのリストとして（分岐式のツリー図に対応する）。\n",
    "BN記法を用いてこの違いを表現すると、\n",
    "前者、後者はそれぞれ次のように定義される。\n",
    "ちょうどコード上の`cond`節に対応している。）\n",
    "\n",
    "1. `Tree = Leaf | Nil | (Tree . Tree)`\n",
    "2. `Tree = Leaf | [Tree]`\n",
    "\n",
    "1.では`Leaf`の他に、ペアに関する用語である`Nil`や`Cons`（`(* . *)`）がプリミティブとして定義に紛れ込んでいる。\n",
    "そのため、ツリーの使用者は、`null?`や`car`や`cdr`と言った、ペアの使い方を理解している必要がある。\n",
    "\n",
    "一方、2.では、プリミティブは`Leaf`と`List`（`[*]`）である。\n",
    "もちろん、`[Tree] = Nil | (Tree . [Tree])`であるので、これを崩した内部構造は1.と同じであるのだが、\n",
    "重要なのは、ペアに直接関わる要素を抽象の壁の向こうに追いやることに成功しているということだ。\n",
    "ツリー使用者は、リストに対する操作法（`map`はその一つ）だけを理解していればよい。\n",
    "\n",
    "これら1.と2.の違いは、データ構造の定義に依拠する違いであり、\n",
    "型の概念がないLispにおいて、それらはプログラマの暗黙の了解、あるいはせいぜいドキュメント上の仕様として表現する他ない。\n",
    "そのため、手続きの定義に複数の方法があったり、1（Leaf）や`Nil`をツリーとして認めるかといった多義性が生じることになる。\n",
    "強い型付け言語であるHaskellでは、前述のBN記法をほとんどそのままデータ型の定義として用いることができる。\n",
    "そうした場合、2つのコードのうち片方のみが正しく、片方は違反として排除される。"
   ]
  },
  {
   "cell_type": "markdown",
   "metadata": {},
   "source": [
    "## Ex. 2.31\n",
    "前問のどちらかで、`square`の部分を抽象すればよいだけ。"
   ]
  },
  {
   "cell_type": "code",
   "execution_count": 18,
   "metadata": {
    "collapsed": false
   },
   "outputs": [
    {
     "data": {
      "text/plain": [
       "(1 (4 (9 16) 25) (36 49))"
      ]
     },
     "execution_count": 18,
     "metadata": {},
     "output_type": "execute_result"
    }
   ],
   "source": [
    "(define (tree-map proc tree)\n",
    "  (cond ((null? tree) nil)\n",
    "        ((leaf? tree) (proc tree))\n",
    "        (else (cons (tree-map proc (car tree)) (tree-map proc (cdr tree))))))\n",
    "(define (square-tree tree) (tree-map square tree))\n",
    "\n",
    "(square-tree (list 1\n",
    "                   (list 2 (list 3 4) 5)\n",
    "                   (list 6 7)))"
   ]
  },
  {
   "cell_type": "markdown",
   "metadata": {},
   "source": [
    "ただし、後者の`map`式を抽象する場合は、文法上の問題のため、ラムダ式が必要になる。\n",
    "（Haskellのような部分適用があればよいが。）"
   ]
  },
  {
   "cell_type": "code",
   "execution_count": 19,
   "metadata": {
    "collapsed": false
   },
   "outputs": [
    {
     "data": {
      "text/plain": [
       "(1 (4 (9 16) 25) (36 49))"
      ]
     },
     "execution_count": 19,
     "metadata": {},
     "output_type": "execute_result"
    }
   ],
   "source": [
    "(define (tree-map proc tree)\n",
    "  (if (leaf? tree) (proc tree)\n",
    "      (map (lambda (sub-tree) (tree-map proc sub-tree)) tree)))\n",
    "(define (square-tree tree) (tree-map square tree))\n",
    "\n",
    "(square-tree (list 1\n",
    "                   (list 2 (list 3 4) 5)\n",
    "                   (list 6 7)))"
   ]
  },
  {
   "cell_type": "markdown",
   "metadata": {},
   "source": [
    "## Ex. 2.32\n",
    "空でない集合$S$と、その要素$a$を考える。\n",
    "$S$の部分集合は、$a$を含まないと含むものに分けられる。\n",
    "$S$の部分集合で、$a$を含まないものの全体を$\\Pi_1$、\n",
    "$a$を含むものの全体を$\\Pi_2$とすると、\n",
    "$$\\mathscr{P}(S) = \\Pi_1 + \\Pi_2$$\n",
    "（$+$は直和である。）\n",
    "\n",
    "ここで、$i_a(X) = X + \\{a\\}$とすると、$\\Pi_1$と$\\Pi_2$は$i_a$によって一対一に対応する。\n",
    "特に、$i_a(\\Pi_1) = \\Pi_2$である。\n",
    "また、$T = S - \\{a\\}$とすれば、$\\Pi_1 = \\mathscr{P}(T)$であるので、結局、\n",
    "$$\n",
    "\\mathscr{P}(S) = \\mathscr{P}(T) + i_a(\\mathscr{P}(T))\n",
    "$$\n",
    "あとはこれをコードに落とし込めばよい。\n",
    "それぞれ、Schemeに翻訳していくと、\n",
    "* $S$: `s`\n",
    "* $a$: `(car s)`\n",
    "* $T = S - \\{a\\}$: `(cdr s)`\n",
    "* $\\Pi_1 = \\mathscr{P}(T)$: `rest = (subsets (cdr s))`\n",
    "* $i_a(X)$: `(cons (car s) X)`\n",
    "* $\\Pi_2 = i_a(\\Pi_1)$: `(map (lambda (subset) (cons (car s) subset)) rest)`\n",
    "\n",
    "よって、$\\mathscr{P}(S)$は……"
   ]
  },
  {
   "cell_type": "code",
   "execution_count": 20,
   "metadata": {
    "collapsed": false,
    "scrolled": true
   },
   "outputs": [
    {
     "data": {
      "text/plain": [
       "(() (4) (3) (3 4) (2) (2 4) (2 3) (2 3 4) (1) (1 4) (1 3) (1 3 4) (1 2) (1 2 4) (1 2 3) (1 2 3 4))"
      ]
     },
     "execution_count": 20,
     "metadata": {},
     "output_type": "execute_result"
    }
   ],
   "source": [
    "(define (subsets s)\n",
    "  (if (null? s) (list nil)\n",
    "      (let ((rest (subsets (cdr s))))\n",
    "        (append rest\n",
    "                (map (lambda (subset) (cons (car s) subset)) rest)))))\n",
    "\n",
    "(subsets (list 1 2 3 4))"
   ]
  },
  {
   "cell_type": "markdown",
   "metadata": {},
   "source": [
    "### 補註\n",
    "迷った人が多かったようだが、所詮は穴埋めなので、丁寧に推論していけば解けるはずの問題。\n",
    "\n",
    "    1: (define (subsets s)\n",
    "    2:   (if (null? s) (list nil)\n",
    "    3:       (let ((rest (subsets (cdr s))))\n",
    "    4:         (append rest (map (??) rest)))))\n",
    "\n",
    "2行目: 空集合の場合の処理。空集合の冪集合は空集合のシングルトン。ベースケースらしく至極当然。\n",
    "\n",
    "以下、再帰ケースでは具体的な呼び出しとして`s = (1 2 3)`について考える。\n",
    "\n",
    "3行目: `rest`を`(subsets (cdr s))`とする。\n",
    "再帰的定義の中で定義中の手続きを用いるときは、**その手続きはすでにきちんと定義されたものとして捉えること**。\n",
    "今回の場合、`rest`は期待通り`(() (2) (3) (2 3))`に束縛されたものとして考える。\n",
    "\n",
    "4行目: `(append rest (map (??) rest))`が`(1 2 3 4)`の冪集合、すなわち`(() (1) (2) (3) (1 2) (2 3) (3 1) (1 2 3))`となればよい。\n",
    "先ほど見たように、`rest`は`(() (2) (3) (2 3))`であるので、`append`の右辺`(map (??) rest)`の部分が`((1) (1 2) (3 1) (1 2 3))`になればよい。\n",
    "\n",
    "`rest`に`(??)`を`map`して`((1) (1 2) (3 1) (1 2 3))`になる。\n",
    "あとは具体的に`rest`と目標のリストを見比べれば、`(??)`がどのような手続きでなくてはならないか分かるはずだ。\n",
    "\n",
    "    rest: (() (2) (3) (2 3))\n",
    "    (map (??) rest): ((1) (1 2) (3 1) (1 2 3))"
   ]
  }
 ],
 "metadata": {
  "anaconda-cloud": {},
  "kernelspec": {
   "display_name": "Calysto Scheme 3",
   "language": "scheme",
   "name": "calysto_scheme"
  },
  "language_info": {
   "codemirror_mode": {
    "name": "scheme"
   },
   "mimetype": "text/x-scheme",
   "name": "scheme",
   "pygments_lexer": "scheme"
  }
 },
 "nbformat": 4,
 "nbformat_minor": 1
}
