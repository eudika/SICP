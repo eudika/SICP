{
 "cells": [
  {
   "cell_type": "markdown",
   "metadata": {},
   "source": [
    "# 2.2.4 節\n",
    "Picture Languageの導入方法が分かるまでは、解答のみ。"
   ]
  },
  {
   "cell_type": "markdown",
   "metadata": {},
   "source": [
    "よく使う名前を定義しておく。"
   ]
  },
  {
   "cell_type": "code",
   "execution_count": 1,
   "metadata": {
    "collapsed": true
   },
   "outputs": [],
   "source": [
    "(define (show-lines . xs)\n",
    "  (define (iter xs)\n",
    "    (cond ((null? xs) #t)\n",
    "          (else (display (car xs))\n",
    "                (newline)\n",
    "                (iter (cdr xs)))))\n",
    "  (iter xs))"
   ]
  },
  {
   "cell_type": "markdown",
   "metadata": {},
   "source": [
    "空リスト"
   ]
  },
  {
   "cell_type": "code",
   "execution_count": 2,
   "metadata": {
    "collapsed": false
   },
   "outputs": [
    {
     "data": {
      "text/plain": [
       "()"
      ]
     },
     "execution_count": 2,
     "metadata": {},
     "output_type": "execute_result"
    }
   ],
   "source": [
    "(define nil (list))\n",
    "\n",
    "nil"
   ]
  },
  {
   "cell_type": "markdown",
   "metadata": {},
   "source": [
    "`push`はリストの末尾に要素を追加する。"
   ]
  },
  {
   "cell_type": "code",
   "execution_count": 3,
   "metadata": {
    "collapsed": false
   },
   "outputs": [
    {
     "data": {
      "text/plain": [
       "(1 2 3 4 5)"
      ]
     },
     "execution_count": 3,
     "metadata": {},
     "output_type": "execute_result"
    }
   ],
   "source": [
    "(define (push x xs)\n",
    "  (if (null? xs) (list x)\n",
    "      (cons (car xs) (push x (cdr xs)))))\n",
    "\n",
    "(push 5 (list 1 2 3 4))"
   ]
  },
  {
   "cell_type": "markdown",
   "metadata": {},
   "source": [
    "`leaf?`は木構造において、ノードが終端（葉）であることを意味する。"
   ]
  },
  {
   "cell_type": "code",
   "execution_count": 4,
   "metadata": {
    "collapsed": true
   },
   "outputs": [],
   "source": [
    "(define (leaf? t)\n",
    "  (not (pair? t)))"
   ]
  },
  {
   "cell_type": "markdown",
   "metadata": {},
   "source": [
    "その他、お馴染みの算術手続き。"
   ]
  },
  {
   "cell_type": "code",
   "execution_count": 5,
   "metadata": {
    "collapsed": false
   },
   "outputs": [],
   "source": [
    "(define (square x) (* x x))\n",
    "(define (prime? n)\n",
    "  (define (iter m)\n",
    "    (or (= m 1)\n",
    "        (and (not (= (remainder n m) 0)) (iter (- m 1)))))\n",
    "  (iter (- n 1)))"
   ]
  },
  {
   "cell_type": "code",
   "execution_count": 1,
   "metadata": {
    "collapsed": false
   },
   "outputs": [
    {
     "name": "stderr",
     "output_type": "stream",
     "text": [
      "\n",
      "Traceback (most recent call last):\n",
      "  File \"In [1]\", line 1, col 28, in 'application'\n",
      "  File \"In [1]\", line 1, col 28\n",
      "RunTimeError: attempt to apply non-procedure 'soegaard'\n",
      "\n"
     ]
    }
   ],
   "source": [
    "(require (planet \"sicp.ss\" (\"soegaard\" \"sicp.plt\" 2 1)))"
   ]
  },
  {
   "cell_type": "code",
   "execution_count": 6,
   "metadata": {
    "collapsed": true
   },
   "outputs": [],
   "source": [
    "(define roger 0)\n",
    "(define (beside p1 p2) 0)\n",
    "(define (below p1 p2) 0)\n",
    "(define (flip-vert p) 0)\n",
    "(define (filp-horiz p) 0)\n",
    "(define (rotate180 p) 0)"
   ]
  },
  {
   "cell_type": "markdown",
   "metadata": {},
   "source": [
    "## Ex. 2.44"
   ]
  },
  {
   "cell_type": "code",
   "execution_count": 7,
   "metadata": {
    "collapsed": true
   },
   "outputs": [],
   "source": [
    "(define (right-split painter n)\n",
    "  (if (= n 0) painter\n",
    "      (let ((smaller (right-split painter (- n 1))))\n",
    "        (beside painter (below smaller smaller)))))\n",
    "(define (up-split painter n)\n",
    "  (if (= n 0) painter\n",
    "      (let ((smaller (up-split painter (- n 1))))\n",
    "        (below painter (beside smaller smaller)))))\n",
    "(define (corner-split painter n)\n",
    "  (if (= n 0) painter\n",
    "      (let ((up (up-split painter (- n 1)))\n",
    "            (right (right-split painter (- n 1))))\n",
    "        (let ((top-left (beside up up))\n",
    "              (bottom-right (below right right))\n",
    "              (corner (corner-split painter (- n 1))))\n",
    "          (beside (below painter top-left)\n",
    "                  (below bottom-right corner))))))"
   ]
  },
  {
   "cell_type": "markdown",
   "metadata": {},
   "source": [
    "## Ex. 2.45"
   ]
  },
  {
   "cell_type": "code",
   "execution_count": 8,
   "metadata": {
    "collapsed": false
   },
   "outputs": [],
   "source": [
    "(define (split dir1 dir2)\n",
    "  (define (dir-split painter n)\n",
    "    (if (= n 0) painter\n",
    "        (let ((smaller (dir-split painter (- n 1))))\n",
    "          (dir1 painter (dir2 smaller smaller))))))\n",
    "(define right-split (split beside below))\n",
    "(define up-split (split below beside))"
   ]
  },
  {
   "cell_type": "markdown",
   "metadata": {},
   "source": []
  },
  {
   "cell_type": "code",
   "execution_count": 9,
   "metadata": {
    "collapsed": true
   },
   "outputs": [],
   "source": [
    "(define (frame-coord-map frame)\n",
    "  (lambda (v)\n",
    "    (add-vect\n",
    "     (origin-frame frame)\n",
    "     (add-vect (scale-vect (xcor-vect v) (edge1-frame frame))\n",
    "               (scale-vect (ycor-vect v) (edge2-frame frame))))))"
   ]
  },
  {
   "cell_type": "markdown",
   "metadata": {},
   "source": [
    "## Ex. 2.46"
   ]
  },
  {
   "cell_type": "code",
   "execution_count": 19,
   "metadata": {
    "collapsed": true
   },
   "outputs": [],
   "source": [
    "(define (make-vect x y) (list x y))\n",
    "(define (xcor-vect v) (car v))\n",
    "(define (ycor-vect v) (cdr v))\n",
    "\n",
    "(define (add-vect v1 v2)\n",
    "  (make-vect (+ (xcor-vect v1) (xcor-vect v2))\n",
    "             (+ (ycor-vect v1) (ycor-vect v2))))\n",
    "(define (sub-vect v1 v2)\n",
    "  (make-vect (- (xcor-vect v1) (xcor-vect v2))\n",
    "             (- (ycor-vect v1) (ycor-vect v2))))\n",
    "(define (scale-vect s v)\n",
    "  (make-vect (* s (xcor-vect v))\n",
    "             (* s (ycor-vect v))))"
   ]
  },
  {
   "cell_type": "markdown",
   "metadata": {},
   "source": [
    "## Ex. 2.47"
   ]
  },
  {
   "cell_type": "code",
   "execution_count": 11,
   "metadata": {
    "collapsed": true
   },
   "outputs": [],
   "source": [
    "(define (make-frame origin edge1 edge2) (list origin edge1 edge2))\n",
    "(define (origin-frame frame) (car frame))\n",
    "(define (edge1-frame frame) (cadr frame))\n",
    "(define (edge2-frame frame) (caddr frame))"
   ]
  },
  {
   "cell_type": "code",
   "execution_count": 12,
   "metadata": {
    "collapsed": true
   },
   "outputs": [],
   "source": [
    "(define (make-frame origin edge1 edge2) (cons origin (cons edge1 edge2)))\n",
    "(define (origin-frame frame) (car frame))\n",
    "(define (edge1-frame frame) (cadr frame))\n",
    "(define (edge2-frame frame) (cddr frame))"
   ]
  },
  {
   "cell_type": "markdown",
   "metadata": {},
   "source": [
    "``\n",
    "painter: frame -> **\n",
    "segments->painter : [segment] -> (frame -> **)\n",
    "``"
   ]
  },
  {
   "cell_type": "code",
   "execution_count": 13,
   "metadata": {
    "collapsed": true
   },
   "outputs": [],
   "source": [
    "(define (segments->painter segment-list)\n",
    "  (lambda (frame)\n",
    "    (for-each\n",
    "     (lambda (segment)\n",
    "       (draw-line\n",
    "        ((frame-coord-map frame)\n",
    "         (start-segment segment))\n",
    "        ((frame-coord-map frame)\n",
    "         (end-segment segment))))\n",
    "     segment-list)))"
   ]
  },
  {
   "cell_type": "markdown",
   "metadata": {},
   "source": [
    "## Ex. 2.48"
   ]
  },
  {
   "cell_type": "code",
   "execution_count": 14,
   "metadata": {
    "collapsed": true
   },
   "outputs": [],
   "source": [
    "(define (make-segment start end) (list start end))\n",
    "(define (start-segment segment) (car segment))\n",
    "(define (end-segment segment) (cadr segment))"
   ]
  },
  {
   "cell_type": "markdown",
   "metadata": {},
   "source": [
    "## Ex. 2.49"
   ]
  },
  {
   "cell_type": "markdown",
   "metadata": {},
   "source": [
    "### a."
   ]
  },
  {
   "cell_type": "code",
   "execution_count": 16,
   "metadata": {
    "collapsed": true
   },
   "outputs": [],
   "source": [
    "(define (outline-painter frame)\n",
    "  (let ((origin (origin-frame frame))\n",
    "        (edge1 (edge1-frame frame))\n",
    "        (edge2 (edge2-frame frame)))\n",
    "    (let ((v1 origin)\n",
    "          (v2 (add-vect origin edge1))\n",
    "          (v3 (add-vect origin\n",
    "                        (add-vect edge1 edge2)))\n",
    "          (v4 (add-vect origin edge2)))\n",
    "      (segments->painter\n",
    "       (list (make-segment v1 v2)\n",
    "             (make-segment v2 v3)\n",
    "             (make-segment v3 v4)\n",
    "             (make-segment v4 v1))))))"
   ]
  },
  {
   "cell_type": "markdown",
   "metadata": {},
   "source": [
    "### b."
   ]
  },
  {
   "cell_type": "code",
   "execution_count": 17,
   "metadata": {
    "collapsed": true
   },
   "outputs": [],
   "source": [
    "(define (x-painter frame)\n",
    "  (let ((origin (origin-frame frame))\n",
    "        (edge1 (edge1-frame frame))\n",
    "        (edge2 (edge2-frame frame)))\n",
    "    (let ((v1 origin)\n",
    "          (v2 (add-vect origin edge1))\n",
    "          (v3 (add-vect origin\n",
    "                        (add-vect edge1 edge2)))\n",
    "          (v4 (add-vect origin edge2)))\n",
    "      (segments->painter\n",
    "       (list (make-segment v1 v3)\n",
    "             (make-segment v2 v4))))))"
   ]
  },
  {
   "cell_type": "markdown",
   "metadata": {},
   "source": [
    "### c."
   ]
  },
  {
   "cell_type": "code",
   "execution_count": 21,
   "metadata": {
    "collapsed": true
   },
   "outputs": [],
   "source": [
    "(define (outline-painter frame)\n",
    "  (define (mid-vect v1 v2)\n",
    "    (scale-vect 0.5 (add-vect v1 v2)))\n",
    "  (let ((origin (origin-frame frame))\n",
    "        (edge1 (edge1-frame frame))\n",
    "        (edge2 (edge2-frame frame))\n",
    "        (m (frame-coord-map frame)))\n",
    "    (let ((m1 (m (make-vect 0.5 0.0)))\n",
    "          (m2 (m (make-vect 1.0 0.5)))\n",
    "          (m3 (m (make-vect 0.5 1.0)))\n",
    "          (m4 (m (make-vect 0.0 0.5))))\n",
    "      (segments->painter\n",
    "       (list (make-segment m1 m2)\n",
    "             (make-segment m2 m3)\n",
    "             (make-segment m3 m4)\n",
    "             (make-segment m4 m1))))))"
   ]
  },
  {
   "cell_type": "markdown",
   "metadata": {},
   "source": [
    "### d."
   ]
  },
  {
   "cell_type": "code",
   "execution_count": 20,
   "metadata": {
    "collapsed": false
   },
   "outputs": [
    {
     "name": "stderr",
     "output_type": "stream",
     "text": [
      "\n",
      "Traceback (most recent call last):\n",
      "  File \"In [20]\", line 1, col 1\n",
      "ScanError: unexpected character '#\\吉' encountered\n",
      "\n"
     ]
    }
   ],
   "source": [
    "吉田くんががんばる"
   ]
  },
  {
   "cell_type": "markdown",
   "metadata": {},
   "source": [
    "The type of painter operations\n",
    "\n",
    "``\n",
    "flip-vert: painter -> painter\n",
    "           (frame -> **) -> (frame -> **)\n",
    "``"
   ]
  },
  {
   "cell_type": "code",
   "execution_count": 22,
   "metadata": {
    "collapsed": true
   },
   "outputs": [],
   "source": [
    "(define (transform-painter painter origin corner1 corner2)\n",
    "  (lambda (frame)\n",
    "    (let ((m (frame-coord-map frame)))\n",
    "      (let ((new-origin (m origin)))\n",
    "        (painter (make-frame\n",
    "                  new-origin\n",
    "                  (sub-vect (m corner1) new-origin)\n",
    "                  (sub-vect (m corner2) new-origin)))))))\n",
    "(define (flip-vert painter)\n",
    "  (transform-painter painter\n",
    "                     (make-vect 0.0 1.0)\n",
    "                     (make-vect 1.0 1.0)\n",
    "                     (make-vect 0.0 0.0)))"
   ]
  },
  {
   "cell_type": "code",
   "execution_count": 23,
   "metadata": {
    "collapsed": true
   },
   "outputs": [],
   "source": [
    "(define (beside painter1 painter2)\n",
    "  (let ((split-point (make-vect 0.5 0.0)))\n",
    "    (let ((paint-left (transform-painter painter1\n",
    "                                         (make-vect 0.0 0.0)\n",
    "                                         split-point\n",
    "                                         (make-vect 0.0 1.0)))\n",
    "          (paint-right (transform-painter painter2\n",
    "                                          split-point\n",
    "                                          (make-vect 1.0 0.0)\n",
    "                                          (make-vect 0.5 1.0))))\n",
    "      (lambda (frame)\n",
    "        (paint-left frame)\n",
    "        (paint-right frame)))))"
   ]
  },
  {
   "cell_type": "markdown",
   "metadata": {},
   "source": [
    "## Ex. 2.50"
   ]
  },
  {
   "cell_type": "code",
   "execution_count": 24,
   "metadata": {
    "collapsed": true
   },
   "outputs": [],
   "source": [
    "(define (flip-horiz painter)\n",
    "  (transform-painter painter\n",
    "                     (make-vect 1.0 0.0)\n",
    "                     (make-vect 0.0 0.0)\n",
    "                     (make-vect 1.0 1.0)))\n",
    "(define (rotate180 painter)\n",
    "  (transform-painter painter\n",
    "                     (make-vect 1.0 1.0)\n",
    "                     (make-vect 0.0 1.0)\n",
    "                     (make-vect 1.0 0.0)))\n",
    "(define (rotate270 painter)\n",
    "  (transform-painter painter\n",
    "                     (make-vect 1.0 0.0)\n",
    "                     (make-vect 0.0 0.0)\n",
    "                     (make-vect 1.0 1.0)))"
   ]
  },
  {
   "cell_type": "markdown",
   "metadata": {},
   "source": [
    "## Ex. 2.51"
   ]
  },
  {
   "cell_type": "code",
   "execution_count": 25,
   "metadata": {
    "collapsed": true
   },
   "outputs": [],
   "source": [
    "(define (below painter1 painter2)\n",
    "  (let ((split-point (make-vect 0.0 0.5)))\n",
    "    (let ((paint-bottom (transform-painter painter1\n",
    "                                           (make-vect 0.0 0.0)\n",
    "                                           (make-vect 1.0 0.0)\n",
    "                                           split-point))\n",
    "          (paint-top (transform-painter painter2\n",
    "                                        split-point\n",
    "                                        (make-vect 1.0 0.5)\n",
    "                                        (make-vect 0.0 1.0))))\n",
    "      (lambda (frame)\n",
    "        (painter1 frame)\n",
    "        (painter2 frame)))))"
   ]
  },
  {
   "cell_type": "code",
   "execution_count": 26,
   "metadata": {
    "collapsed": true
   },
   "outputs": [],
   "source": [
    "(define (below painter1 painter2)\n",
    "  (rotate90 (beside (rotate270 painter1) (rotate270 painter2))))"
   ]
  },
  {
   "cell_type": "markdown",
   "metadata": {},
   "source": [
    "## Ex. 2.52"
   ]
  },
  {
   "cell_type": "markdown",
   "metadata": {},
   "source": [
    "### a."
   ]
  },
  {
   "cell_type": "code",
   "execution_count": null,
   "metadata": {
    "collapsed": true
   },
   "outputs": [],
   "source": []
  },
  {
   "cell_type": "markdown",
   "metadata": {},
   "source": [
    "### b."
   ]
  },
  {
   "cell_type": "code",
   "execution_count": null,
   "metadata": {
    "collapsed": true
   },
   "outputs": [],
   "source": []
  },
  {
   "cell_type": "markdown",
   "metadata": {},
   "source": [
    "### c."
   ]
  },
  {
   "cell_type": "code",
   "execution_count": null,
   "metadata": {
    "collapsed": true
   },
   "outputs": [],
   "source": []
  }
 ],
 "metadata": {
  "anaconda-cloud": {},
  "kernelspec": {
   "display_name": "Calysto Scheme 3",
   "language": "scheme",
   "name": "calysto_scheme"
  },
  "language_info": {
   "codemirror_mode": {
    "name": "scheme"
   },
   "mimetype": "text/x-scheme",
   "name": "scheme",
   "pygments_lexer": "scheme"
  }
 },
 "nbformat": 4,
 "nbformat_minor": 1
}
