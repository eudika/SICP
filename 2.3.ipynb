{
 "cells": [
  {
   "cell_type": "markdown",
   "metadata": {},
   "source": [
    "# 2.3.1 節"
   ]
  },
  {
   "cell_type": "code",
   "execution_count": 1,
   "metadata": {
    "collapsed": true
   },
   "outputs": [],
   "source": [
    "(define (show-lines . xs)\n",
    "  (define (iter xs)\n",
    "    (cond ((null? xs) #t)\n",
    "          (else (display (car xs))\n",
    "                (newline)\n",
    "                (iter (cdr xs)))))\n",
    "  (iter xs))\n",
    "(define nil (list))\n",
    "(define (push x xs) (append xs (list x)))\n",
    "(define (filter predicate seq)\n",
    "  (cond ((null? seq) nil)\n",
    "        ((predicate (car seq))\n",
    "         (cons (car seq) (filter predicate (cdr seq))))\n",
    "        (else (filter predicate (cdr seq)))))\n",
    "(define (accumulate op init seq)\n",
    "  (if (null? seq) init\n",
    "      (op (car seq) (accumulate op init (cdr seq)))))"
   ]
  },
  {
   "cell_type": "code",
   "execution_count": 2,
   "metadata": {
    "collapsed": true
   },
   "outputs": [],
   "source": [
    "(define (atom? a)\n",
    "  (and (not (null? a))\n",
    "       (not (pair? a))))"
   ]
  },
  {
   "cell_type": "markdown",
   "metadata": {},
   "source": [
    "## Ex. 2.53\n",
    "`'(a b)`と`(list 'a 'b)`の同義性さえ分かればあとは自然である。\n",
    "（括弧そのものをquoteすることはできない。）"
   ]
  },
  {
   "cell_type": "code",
   "execution_count": 3,
   "metadata": {
    "collapsed": false
   },
   "outputs": [
    {
     "name": "stdout",
     "output_type": "stream",
     "text": [
      "(a b c)\n",
      "((george))\n",
      "((y1 y2))\n",
      "(y1 y2)\n",
      "False\n",
      "False\n",
      "(red shoes blue socks)\n"
     ]
    },
    {
     "data": {
      "text/plain": [
       "#t"
      ]
     },
     "execution_count": 3,
     "metadata": {},
     "output_type": "execute_result"
    }
   ],
   "source": [
    "(show-lines\n",
    " (list 'a 'b 'c)\n",
    " (list (list 'george))\n",
    " (cdr '((x1 x2) (y1 y2)))\n",
    " (cadr '((x1 x2) (y1 y2)))\n",
    " (pair? (car '(a short list)))\n",
    " (memq 'red '((red shoes) (blue socks)))\n",
    " (memq 'red '(red shoes blue socks))\n",
    " )"
   ]
  },
  {
   "cell_type": "markdown",
   "metadata": {},
   "source": [
    "## Ex. 2.54\n",
    "深い再帰"
   ]
  },
  {
   "cell_type": "code",
   "execution_count": 4,
   "metadata": {
    "collapsed": false
   },
   "outputs": [
    {
     "name": "stdout",
     "output_type": "stream",
     "text": [
      "True\n",
      "False\n"
     ]
    },
    {
     "data": {
      "text/plain": [
       "#t"
      ]
     },
     "execution_count": 4,
     "metadata": {},
     "output_type": "execute_result"
    }
   ],
   "source": [
    "(define (equal? xs ys)\n",
    "  (cond ((null? xs) (null? ys))\n",
    "        ((atom? xs) (eq? xs ys))\n",
    "        (else (and (equal? (car xs) (car ys))\n",
    "                   (equal? (cdr xs) (cdr ys))))))\n",
    "\n",
    "(show-lines\n",
    " (equal? '(this is a list) '(this is a list))\n",
    " (equal? '(this is a list) '(this (is a) list)))"
   ]
  },
  {
   "cell_type": "markdown",
   "metadata": {},
   "source": [
    "## Ex. 2.55"
   ]
  },
  {
   "cell_type": "code",
   "execution_count": 5,
   "metadata": {
    "collapsed": false
   },
   "outputs": [
    {
     "data": {
      "text/plain": [
       "quote"
      ]
     },
     "execution_count": 5,
     "metadata": {},
     "output_type": "execute_result"
    }
   ],
   "source": [
    "(car ''abracadabra)"
   ]
  },
  {
   "cell_type": "markdown",
   "metadata": {},
   "source": [
    "上記入力は次の式の糖衣構文である。\n",
    "\n",
    "``\n",
    "(car (quote (quote abracadabra)))``\n",
    "\n",
    "これは、次のように解釈される。（評価？）\n",
    "\n",
    "``(car ((quote quote) (quote abracadabra)))``\n",
    "\n",
    "再度糖衣構文を用いてわかりやすく書くと、\n",
    "\n",
    "``(car ('quote 'abratadabra))``"
   ]
  },
  {
   "cell_type": "markdown",
   "metadata": {},
   "source": [
    "# 2.3.2 節"
   ]
  },
  {
   "cell_type": "code",
   "execution_count": 6,
   "metadata": {
    "collapsed": true
   },
   "outputs": [],
   "source": [
    "(define (variable? x) (symbol? x))\n",
    "(define (same-variable? v1 v2)\n",
    "  (and (variable? v1) (variable? v2) (eq? v1 v2)))\n",
    "(define (make-sum a1 a2) (list '+ a1 a2))\n",
    "(define (make-product m1 m2) (list '* m1 m2))\n",
    "(define (sum? x) (and (pair? x) (eq? (car x) '+)))\n",
    "(define (addend s) (cadr s))\n",
    "(define (augend s) (caddr s))\n",
    "(define (product? x) (and (pair? x) (eq? (car x) '*)))\n",
    "(define (multiplier p) (cadr p))\n",
    "(define (multiplicand p) (caddr p))"
   ]
  },
  {
   "cell_type": "code",
   "execution_count": 7,
   "metadata": {
    "collapsed": true
   },
   "outputs": [],
   "source": [
    "(define (deriv exp var)\n",
    "  (cond ((number? exp) 0)\n",
    "        ((variable? exp) (if (same-variable? exp var) 1 0))\n",
    "        ((sum? exp) (make-sum (deriv (addend exp) var)\n",
    "                              (deriv (augend exp) var)))\n",
    "        ((product? exp) (make-sum\n",
    "                         (make-product (multiplier exp)\n",
    "                                       (deriv (multiplicand exp) var))\n",
    "                         (make-product (deriv (multiplier exp) var)\n",
    "                                       (multiplicand exp))))\n",
    "        (else (error \"unknown expression type: DERIV\" exp))))"
   ]
  },
  {
   "cell_type": "code",
   "execution_count": 8,
   "metadata": {
    "collapsed": false
   },
   "outputs": [
    {
     "name": "stdout",
     "output_type": "stream",
     "text": [
      "(+ 1 0)\n",
      "(+ (* x 0) (* 1 y))\n",
      "(+ (* (* x y) (+ 1 0)) (* (+ (* x 0) (* 1 y)) (+ x 3)))\n"
     ]
    },
    {
     "data": {
      "text/plain": [
       "#t"
      ]
     },
     "execution_count": 8,
     "metadata": {},
     "output_type": "execute_result"
    }
   ],
   "source": [
    "(show-lines\n",
    " (deriv '(+ x 3) 'x)\n",
    " (deriv '(* x y) 'x)\n",
    " (deriv '(* (* x y) (+ x 3)) 'x))"
   ]
  },
  {
   "cell_type": "code",
   "execution_count": 9,
   "metadata": {
    "collapsed": true
   },
   "outputs": [],
   "source": [
    "(define (=number? exp num) (and (number? exp) (= exp num)))\n",
    "(define (make-sum a1 a2)\n",
    "  (cond ((=number? a1 0) a2)\n",
    "        ((=number? a2 0) a1)\n",
    "        ((and (number? a1) (number? a2)) (+ a1 a2))\n",
    "        (else (list '+ a1 a2))))\n",
    "(define (make-product m1 m2)\n",
    "  (cond ((or (=number? m1 0) (=number? m2 0)) 0)\n",
    "        ((=number? m1 1) m2)\n",
    "        ((=number? m2 1) m1)\n",
    "        ((and (number? m1) (number? m2)) (* m1 m2))\n",
    "        (else (list '* m1 m2))))"
   ]
  },
  {
   "cell_type": "code",
   "execution_count": 10,
   "metadata": {
    "collapsed": false
   },
   "outputs": [
    {
     "name": "stdout",
     "output_type": "stream",
     "text": [
      "1\n",
      "y\n",
      "(+ (* x y) (* y (+ x 3)))\n"
     ]
    },
    {
     "data": {
      "text/plain": [
       "#t"
      ]
     },
     "execution_count": 10,
     "metadata": {},
     "output_type": "execute_result"
    }
   ],
   "source": [
    "(show-lines\n",
    " (deriv '(+ x 3) 'x)\n",
    " (deriv '(* x y) 'x)\n",
    " (deriv '(* (* x y) (+ x 3)) 'x))"
   ]
  },
  {
   "cell_type": "markdown",
   "metadata": {},
   "source": [
    "## Ex. 2.56"
   ]
  },
  {
   "cell_type": "code",
   "execution_count": 11,
   "metadata": {
    "collapsed": false
   },
   "outputs": [],
   "source": [
    "(define (make-exponentiation base exponent)\n",
    "  (cond ((=number? base 0) 0)\n",
    "        ((or (=number? base 1) (=number? exponent 0)) 1)\n",
    "        ((=number? exponent 1) base)\n",
    "        ((and (number? base) (number? exponent)) (exp base exponent))\n",
    "        (else (list '** base exponent))))\n",
    "(define (exponentiation? exp) (and (pair? exp) (eq? (car exp) '**)))\n",
    "(define (base exp) (cadr exp))\n",
    "(define (exponent exp) (caddr exp))"
   ]
  },
  {
   "cell_type": "code",
   "execution_count": 12,
   "metadata": {
    "collapsed": true
   },
   "outputs": [],
   "source": [
    "(define (deriv exp var)\n",
    "  (cond ((number? exp) 0)\n",
    "        ((variable? exp) (if (same-variable? exp var) 1 0))\n",
    "        ((sum? exp) (make-sum (deriv (addend exp) var)\n",
    "                              (deriv (augend exp) var)))\n",
    "        ((product? exp) (make-sum\n",
    "                         (make-product (multiplier exp)\n",
    "                                       (deriv (multiplicand exp) var))\n",
    "                         (make-product (deriv (multiplier exp) var)\n",
    "                                       (multiplicand exp))))\n",
    "        ((exponentiation? exp) (make-product\n",
    "                                (make-product (exponent exp)\n",
    "                                              (make-exponentiation\n",
    "                                               (base exp)\n",
    "                                               (- (exponent exp) 1)))\n",
    "                                (deriv (base exp) var)))\n",
    "        (else (error \"unknown expression type: DERIV\" exp))))"
   ]
  },
  {
   "cell_type": "code",
   "execution_count": 13,
   "metadata": {
    "collapsed": false
   },
   "outputs": [
    {
     "data": {
      "text/plain": [
       "(* (* 2 (* x y)) y)"
      ]
     },
     "execution_count": 13,
     "metadata": {},
     "output_type": "execute_result"
    }
   ],
   "source": [
    "(deriv '(** (* x y) 2) 'x)"
   ]
  },
  {
   "cell_type": "markdown",
   "metadata": {},
   "source": [
    "## Ex. 2.57\n",
    "動くし、理に適っているのだが、もう少し綺麗にならないものか。\n",
    "\n",
    "`addend`はそのまま。`augend`は第二成分以降を返せばいい。\n",
    "問題は、`make-sum`において任意個数の項を適切に簡約できるかどうか。\n",
    "考え方は以下のとおり。`make-product`もほぼ同様。\n",
    "1. 引数を「定数」と「それ以外」に分け、「定数」は合計する。\n",
    "2. 0を簡約する。\n",
    " 1. 「定数」の合計が0である場合は、「それ以外」を「項」とする。\n",
    " 2. 「定数」の合計が0でない場合は、「それ以外」と「定数」を合わせて「項」とする。\n",
    "3. 「項」を適切な形式で表現する。\n",
    " 1. 「項」が空である場合は、0を返す。\n",
    " 2. 「項」がシングルトンである場合は、その唯一の要素を返す。\n",
    " 3. 「項」がそれ以上である場合は、先頭に`'+`を付加して返す。"
   ]
  },
  {
   "cell_type": "code",
   "execution_count": 14,
   "metadata": {
    "collapsed": false
   },
   "outputs": [],
   "source": [
    "(define (single? xs) (and (pair? xs) (null? (cdr xs))))\n",
    "(define (product xs) (accumulate * 1 xs))\n",
    "\n",
    "\n",
    "(define (make-sum . as)\n",
    "  (let ((const (sum (filter number? as)))\n",
    "        (others (filter (lambda (a) (not (number? a))) as)))\n",
    "    (let ((terms (if (= const 0) others (push const others))))\n",
    "      (cond ((null? terms) 0)\n",
    "            ((single? terms) (car terms))\n",
    "            (else (cons '+ terms))))))\n",
    " (define (addend s) (cadr s))\n",
    "(define (augend s)\n",
    "  (let ((followings (cddr s)))\n",
    "    (if (single? followings) (car followings)\n",
    "        (cons '+ followings))))\n",
    "\n",
    "(define (make-product . ms)\n",
    "  (let ((const (product (filter number? ms)))\n",
    "        (others (filter (lambda (m) (not (number? m))) ms)))\n",
    "    (let ((factors (cond ((= const 0) (list 0))\n",
    "                      ((= const 1) others)\n",
    "                      (else (push const others)))))\n",
    "      (cond ((null? factors) 1)\n",
    "            ((single? factors) (car factors))\n",
    "            (else (cons '* factors))))))\n",
    " (define (multiplier p) (cadr p))\n",
    "(define (multiplicand p)\n",
    "  (let ((followings (cddr p)))\n",
    "    (if (single? followings) (car followings)\n",
    "        (cons '* followings))))"
   ]
  },
  {
   "cell_type": "code",
   "execution_count": 15,
   "metadata": {
    "collapsed": false
   },
   "outputs": [
    {
     "data": {
      "text/plain": [
       "(+ (* x y) (* y (+ x 3)))"
      ]
     },
     "execution_count": 15,
     "metadata": {},
     "output_type": "execute_result"
    }
   ],
   "source": [
    "(deriv '(* x y (+ x 3)) 'x)"
   ]
  },
  {
   "cell_type": "markdown",
   "metadata": {},
   "source": [
    "## Ex. 2.58"
   ]
  },
  {
   "cell_type": "markdown",
   "metadata": {},
   "source": [
    "### a.\n"
   ]
  },
  {
   "cell_type": "code",
   "execution_count": 20,
   "metadata": {
    "collapsed": false
   },
   "outputs": [],
   "source": [
    "(define (make-sum a1 a2)\n",
    "  (cond ((=number? a1 0) a2)\n",
    "        ((=number? a2 0) a1)\n",
    "        ((and (number? a1) (number? a2)) (+ a1 a2))\n",
    "        (else (list a1 '+ a2))))\n",
    "(define (make-product m1 m2)\n",
    "  (cond ((or (=number? m1 0) (=number? m2 0)) 0)\n",
    "        ((=number? m1 1) m2)\n",
    "        ((=number? m2 1) m1)\n",
    "        ((and (number? m1) (number? m2)) (* m1 m2))\n",
    "        (else (list m1 '* m2))))\n",
    "(define (sum? x) (and (pair? x) (pair? (cdr x)) (eq? (cadr x) '+)))\n",
    "(define (addend s) (car s))\n",
    ";(define (augend s) (caddr s)) ; no changes\n",
    "(define (product? x) (and (pair? x) (pair? (cdr x)) (eq? (cadr x) '*)))\n",
    "(define (multiplier p) (car p))\n",
    ";(define (multiplicand p) (caddr p)) ; no changes"
   ]
  },
  {
   "cell_type": "code",
   "execution_count": 24,
   "metadata": {
    "collapsed": false
   },
   "outputs": [
    {
     "data": {
      "text/plain": [
       "(1 + (2 * y))"
      ]
     },
     "execution_count": 24,
     "metadata": {},
     "output_type": "execute_result"
    }
   ],
   "source": [
    "(deriv '(x + ((2 * x) * y)) 'x)"
   ]
  },
  {
   "cell_type": "markdown",
   "metadata": {},
   "source": [
    "### b.\n",
    "ちゃんとやるにはパーサーが必要。\n",
    "\n",
    "コンストラクタは弄らない。"
   ]
  },
  {
   "cell_type": "code",
   "execution_count": 40,
   "metadata": {
    "collapsed": false
   },
   "outputs": [],
   "source": [
    "(define (take-before x xs)\n",
    "  (if (or (null? xs) (eq? (car xs) x)) nil\n",
    "        (cons (car xs) (take-before x (cdr xs)))))\n",
    "(define (take-after x xs)\n",
    "  (cond ((null? xs) nil)\n",
    "        ((eq? (car xs) x) (cdr xs))\n",
    "        (else (take-after x (cdr xs)))))\n",
    "(define (unlist xs) (if (single? xs) (car xs) xs))\n",
    "\n",
    "(define (sum? x) (memq '+ x))\n",
    "(define (addend s) (unlist (take-before '+ s)))\n",
    "(define (augend s) (unlist (take-after '+ s)))\n",
    "(define (product? x) (and (not (sum? x)) (memq '* x)))\n",
    "(define (multiplier p) (unlist (take-before '* p)))\n",
    "(define (multiplicand p) (unlist (take-after '* p)))"
   ]
  },
  {
   "cell_type": "code",
   "execution_count": 41,
   "metadata": {
    "collapsed": false
   },
   "outputs": [
    {
     "data": {
      "text/plain": [
       "(1 + (2 * y))"
      ]
     },
     "execution_count": 41,
     "metadata": {},
     "output_type": "execute_result"
    }
   ],
   "source": [
    "(deriv '(x + 2 * x * y) 'x)"
   ]
  },
  {
   "cell_type": "markdown",
   "metadata": {},
   "source": [
    "# 2.3.3 節"
   ]
  },
  {
   "cell_type": "code",
   "execution_count": 43,
   "metadata": {
    "collapsed": true
   },
   "outputs": [],
   "source": [
    "(define (element-of-set? x set)\n",
    "  (cond ((null? set) #f)\n",
    "        ((equal? x (car set)) #t)\n",
    "        (else (element-of-set? x (cdr set)))))\n",
    "(define (adjoint-set x set)\n",
    "  (if (element-of-set? x set)\n",
    "      set\n",
    "      (cons x set)))\n",
    "(define (intersection-set set1 set2)\n",
    "  (cond ((or (null? set1) (null? set2)) nil)\n",
    "        ((element-of-set? (car set1) set2) (cons (car set1) (intersection-set (cdr set1) set2)))\n",
    "        (else (intersection-set (cdr set1) set2))))"
   ]
  },
  {
   "cell_type": "markdown",
   "metadata": {},
   "source": [
    "## Ex. 2.59"
   ]
  },
  {
   "cell_type": "code",
   "execution_count": 44,
   "metadata": {
    "collapsed": false
   },
   "outputs": [
    {
     "data": {
      "text/plain": [
       "(b a c d e)"
      ]
     },
     "execution_count": 44,
     "metadata": {},
     "output_type": "execute_result"
    }
   ],
   "source": [
    "(define (union-set set1 set2)\n",
    "  (if (null? set1)\n",
    "      set2\n",
    "      (union-set (cdr set1) (adjoint-set (car set1) set2))))\n",
    "\n",
    "(union-set '(a b c d) '(c d e))"
   ]
  },
  {
   "cell_type": "markdown",
   "metadata": {},
   "source": [
    "## Ex. 2.60"
   ]
  },
  {
   "cell_type": "code",
   "execution_count": 46,
   "metadata": {
    "collapsed": false
   },
   "outputs": [
    {
     "data": {
      "text/plain": [
       "#f"
      ]
     },
     "execution_count": 46,
     "metadata": {},
     "output_type": "execute_result"
    }
   ],
   "source": [
    "(define (element-of-set? x set)\n",
    "  (cond ((null? set) #f)\n",
    "        ((equal? x (car set)) #t)\n",
    "        (else element-of-set? x (cdr set))))\n",
    "(define (adjoint-set x set) (cons x set))\n",
    "(define (union-set set1 set2) (append set1 set2))\n",
    ";(define (intersection-set set1 set2) ...) ; no change"
   ]
  },
  {
   "cell_type": "markdown",
   "metadata": {},
   "source": [
    "`adjoint-set`と`union-set`のオーダーが下がる（それぞれ$\\Theta(1)$と$\\Theta(n)$）一方で、リストの長さが増えやすく、\n",
    "そのため`element-of-set?`と`intersection-set`の効率が悪くなる傾向にある。\n",
    "また、空間計算量そのものも無視できない。\n",
    "要素の追加が頻繁にあって、検索が少ない応用には向いているが、\n",
    "それでもときどき重複を除去するのがよいだろう。"
   ]
  },
  {
   "cell_type": "markdown",
   "metadata": {},
   "source": [
    "### 補註\n",
    "重複を除去するための手続き。$\\Theta(n^2)$"
   ]
  },
  {
   "cell_type": "code",
   "execution_count": 51,
   "metadata": {
    "collapsed": false
   },
   "outputs": [
    {
     "data": {
      "text/plain": [
       "(2 3 1)"
      ]
     },
     "execution_count": 51,
     "metadata": {},
     "output_type": "execute_result"
    }
   ],
   "source": [
    "(define (remove-all x ys)\n",
    "  (filter (lambda (y) (not (equal? x y))) ys))\n",
    "(define (unique-list set)\n",
    "  (if (null? set) nil\n",
    "      (cons (car set) (unique-list (remove-all (car set) (cdr set))))))\n",
    "\n",
    "(unique-set '(2 3 2 1 3 2 2))"
   ]
  },
  {
   "cell_type": "markdown",
   "metadata": {},
   "source": [
    "---"
   ]
  },
  {
   "cell_type": "code",
   "execution_count": 49,
   "metadata": {
    "collapsed": true
   },
   "outputs": [],
   "source": [
    "(define (element-of-set? x set)\n",
    "  (cond ((null? set) #f)\n",
    "        ((= x (car set)) #t)\n",
    "        ((< x (car set)) #f)\n",
    "        (else (element-of-set? x (cdr set)))))\n",
    "(define (intersection-set set1 set2)\n",
    "  (if (or (null? set1) (null? set2)) nil\n",
    "      (let ((x1 (car set1)) (x2 (car set2)))\n",
    "        (cond ((= x1 x2) (cons x1 (intersection-set (cdr set1) (cdr set2))))\n",
    "              ((< x1 x2) (intersection-set (cdr set1) set2))\n",
    "              ((> x1 x2) (intersection-set set1 (cdr set2)))))))"
   ]
  },
  {
   "cell_type": "markdown",
   "metadata": {},
   "source": [
    "## Ex. 2.61"
   ]
  },
  {
   "cell_type": "code",
   "execution_count": 52,
   "metadata": {
    "collapsed": false
   },
   "outputs": [
    {
     "data": {
      "text/plain": [
       "(1 2 3 4 5)"
      ]
     },
     "execution_count": 52,
     "metadata": {},
     "output_type": "execute_result"
    }
   ],
   "source": [
    "(define (adjoint-set x set)\n",
    "  (cond ((null? set) (list x))\n",
    "        ((= x (car set)) set)\n",
    "        ((< x (car set)) (cons x set))\n",
    "        (else (cons (car set) (adjoint-set x (cdr set))))))\n",
    "\n",
    "(adjoint-set 3 '(1 2 4 5))"
   ]
  },
  {
   "cell_type": "markdown",
   "metadata": {},
   "source": [
    "## Ex. 2.62"
   ]
  },
  {
   "cell_type": "code",
   "execution_count": 55,
   "metadata": {
    "collapsed": false
   },
   "outputs": [
    {
     "data": {
      "text/plain": [
       "(1 2 3 5 7 9 11)"
      ]
     },
     "execution_count": 55,
     "metadata": {},
     "output_type": "execute_result"
    }
   ],
   "source": [
    "(define (union-set set1 set2)\n",
    "  (cond ((null? set1) set2)\n",
    "        ((null? set2) set1)\n",
    "        (else (let ((x1 (car set1)) (x2 (car set2)))\n",
    "                (cond ((= x1 x2) (cons x1 (union-set (cdr set1) (cdr set2))))\n",
    "                      ((< x1 x2) (cons x1 (union-set (cdr set1) set2)))\n",
    "                      ((> x1 x2) (cons x2 (union-set set1 (cdr set2)))))))))\n",
    "\n",
    "(union-set '(1 3 5 7 9) '(2 3 5 7 11))"
   ]
  },
  {
   "cell_type": "markdown",
   "metadata": {},
   "source": [
    "---"
   ]
  },
  {
   "cell_type": "code",
   "execution_count": 58,
   "metadata": {
    "collapsed": true
   },
   "outputs": [],
   "source": [
    "(define (entry tree) (car tree))\n",
    "(define (left-branch tree) (cadr tree))\n",
    "(define (right-branch tree) (caddr tree))\n",
    "(define (make-tree entry left right)\n",
    "  (list entry left right))\n",
    "(define (element-of-set? x set)\n",
    "  (cond ((null? set) #f)\n",
    "        ((= x (entry set)) #t)\n",
    "        ((< x (entry set)) (element-of-set? x (left-branch set)))\n",
    "        ((> x (entry set)) (element-of-set? x (right-branch set)))))\n",
    "(define (adjoint-set x set)\n",
    "  (cond ((null? set) (make-tree x nil nil))\n",
    "        ((= x (entry set)) set)\n",
    "        ((< x (entry set)) (make-tree (entry x) (adjoint-set x (left-branch set)) (right-branch set)))\n",
    "        ((> x (entry set)) (make-tree (entry x) (left-branch set) (adjoint-set x (right-branch set))))))"
   ]
  },
  {
   "cell_type": "markdown",
   "metadata": {},
   "source": [
    "## Ex. 2.63"
   ]
  },
  {
   "cell_type": "code",
   "execution_count": 60,
   "metadata": {
    "collapsed": true
   },
   "outputs": [],
   "source": [
    "(define (tree->list-1 tree)\n",
    "  (if (null? tree) nil\n",
    "      (append (tree->list-1 (left-branch tree))\n",
    "              (cons (entry tree) (tree->list-1 (right-branch tree))))))\n",
    "(define (tree->list-2 tree)\n",
    "  (define (copy-to-list tree result-list)\n",
    "    (if (null? tree) result-list\n",
    "        (copy-to-list (left-branch tree) (cons (entry tree) (copy-to-list (right-branch tree) result-list)))))\n",
    "  (copy-to-list tree nil))"
   ]
  },
  {
   "cell_type": "markdown",
   "metadata": {},
   "source": [
    "### a."
   ]
  },
  {
   "cell_type": "code",
   "execution_count": 67,
   "metadata": {
    "collapsed": false
   },
   "outputs": [
    {
     "name": "stdout",
     "output_type": "stream",
     "text": [
      "(1 3 5 7 9 11)\n",
      "(1 3 5 7 9 11)\n",
      "(1 3 5 7 9 11)\n",
      "(1 3 5 7 9 11)\n",
      "(1 3 5 7 9 11)\n",
      "(1 3 5 7 9 11)\n"
     ]
    },
    {
     "data": {
      "text/plain": [
       "#t"
      ]
     },
     "execution_count": 67,
     "metadata": {},
     "output_type": "execute_result"
    }
   ],
   "source": [
    "(define t1 '(7\n",
    "             (3(1 () ()) (5 () ()))\n",
    "             (9 () (11 () ()))))\n",
    "(define t2 '(3\n",
    "             (1 () ())\n",
    "             (7 (5 () ()) (9 () (11 () ())))))\n",
    "(define t3 '(5\n",
    "             (3 (1 () ()) ())\n",
    "             (9 (7 () ()) (11 () ()))))\n",
    "\n",
    "(show-lines\n",
    " (tree->list-1 t1)\n",
    " (tree->list-2 t1)\n",
    " (tree->list-1 t2)\n",
    " (tree->list-2 t2)\n",
    " (tree->list-1 t3)\n",
    " (tree->list-2 t3))"
   ]
  },
  {
   "cell_type": "markdown",
   "metadata": {},
   "source": []
  },
  {
   "cell_type": "markdown",
   "metadata": {},
   "source": [
    "## Ex. 2.64"
   ]
  },
  {
   "cell_type": "code",
   "execution_count": 70,
   "metadata": {
    "collapsed": false
   },
   "outputs": [
    {
     "data": {
      "text/plain": [
       "(5 (1 () (3 () ())) (9 (7 () ()) (11 () ())))"
      ]
     },
     "execution_count": 70,
     "metadata": {},
     "output_type": "execute_result"
    }
   ],
   "source": [
    "(define (list->tree elements)\n",
    "  (car (partial-tree elements (length elements))))\n",
    "(define (partial-tree elts n)\n",
    "  (if (= n 0) (cons nil elts)\n",
    "      (let ((left-size (quotient (- n 1) 2)))\n",
    "        (let ((left-result (partial-tree elts left-size)))\n",
    "          (let ((left-tree (car left-result))\n",
    "                (non-left-elts (cdr left-result))\n",
    "                (right-size (- n (+ left-size 1))))\n",
    "            (let ((this-entry (car non-left-elts))\n",
    "                  (right-result (partial-tree (cdr non-left-elts) right-size)))\n",
    "              (let ((right-tree (car right-result))\n",
    "                    (remaining-elts (cdr right-result)))\n",
    "                (cons (make-tree this-entry\n",
    "                                 left-tree\n",
    "                                 right-tree)\n",
    "                      remaining-elts))))))))\n",
    "\n",
    "(list->tree '(1 3 5 7 9 11))"
   ]
  },
  {
   "cell_type": "markdown",
   "metadata": {},
   "source": [
    "### 補註"
   ]
  },
  {
   "cell_type": "code",
   "execution_count": 71,
   "metadata": {
    "collapsed": false
   },
   "outputs": [
    {
     "data": {
      "text/plain": [
       "(5 (1 () (3 () ())) (9 (7 () ()) (11 () ())))"
      ]
     },
     "execution_count": 71,
     "metadata": {},
     "output_type": "execute_result"
    }
   ],
   "source": [
    "(define (partial-tree elts n)\n",
    "  (if (= n 0) (cons nil elts)\n",
    "      (let* ((left-size (quotient (- n 1) 2))\n",
    "             (left-result (partial-tree elts left-size))\n",
    "             (left-tree (car left-result))\n",
    "             (non-left-elts (cdr left-result))\n",
    "             (right-size (- n (+ left-size 1)))\n",
    "             (this-entry (car non-left-elts))\n",
    "             (right-result (partial-tree (cdr non-left-elts) right-size))\n",
    "             (right-tree (car right-result))\n",
    "             (remaining-elts (cdr right-result)))\n",
    "        (cons (make-tree this-entry\n",
    "                         left-tree\n",
    "                         right-tree)\n",
    "              remaining-elts))))\n",
    "\n",
    "(list->tree '(1 3 5 7 9 11))"
   ]
  },
  {
   "cell_type": "markdown",
   "metadata": {},
   "source": [
    "## Ex. 2.65"
   ]
  },
  {
   "cell_type": "code",
   "execution_count": 73,
   "metadata": {
    "collapsed": true
   },
   "outputs": [],
   "source": [
    "(define (union-set-as-list set1 set2)\n",
    "  (cond ((null? set1) set2)\n",
    "        ((null? set2) set1)\n",
    "        (else (let ((x1 (car set1)) (x2 (car set2)))\n",
    "                (cond ((= x1 x2) (cons x1 (union-set-as-list (cdr set1) (cdr set2))))\n",
    "                      ((< x1 x2) (cons x1 (union-set-as-list (cdr set1) set2)))\n",
    "                      ((> x1 x2) (cons x2 (union-set-as-list set1 (cdr set2)))))))))\n",
    "(define (intersection-set-as-list set1 set2)\n",
    "  (if (or (null? set1) (null? set2)) nil\n",
    "      (let ((x1 (car set1)) (x2 (car set2)))\n",
    "        (cond ((= x1 x2) (cons x1 (intersection-set-as-list (cdr set1) (cdr set2))))\n",
    "              ((< x1 x2) (intersection-set-as-list (cdr set1) set2))\n",
    "              ((> x1 x2) (intersection-set-as-list set1 (cdr set2)))))))\n",
    "(define (union-set set1 set2)\n",
    "  (list->set (union-set-as-list (tree->list1 set1) (tree->list1 set2))))\n",
    "(define (intersection-set set1 set2)\n",
    "  (list->set (intersection-set-as-list (tree->list1 set1) (tree->list set2))))"
   ]
  },
  {
   "cell_type": "code",
   "execution_count": null,
   "metadata": {
    "collapsed": true
   },
   "outputs": [],
   "source": []
  }
 ],
 "metadata": {
  "anaconda-cloud": {},
  "kernelspec": {
   "display_name": "Calysto Scheme 3",
   "language": "scheme",
   "name": "calysto_scheme"
  },
  "language_info": {
   "codemirror_mode": {
    "name": "scheme"
   },
   "mimetype": "text/x-scheme",
   "name": "scheme",
   "pygments_lexer": "scheme"
  }
 },
 "nbformat": 4,
 "nbformat_minor": 1
}
